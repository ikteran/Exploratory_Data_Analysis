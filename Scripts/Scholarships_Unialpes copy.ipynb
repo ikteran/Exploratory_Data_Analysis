{
 "cells": [
  {
   "cell_type": "markdown",
   "metadata": {},
   "source": [
    "### EDA: Asignación de becas Unialpes"
   ]
  },
  {
   "cell_type": "markdown",
   "metadata": {},
   "source": [
    "__Ejercicio propuesto por:__: Camilo Hernando Gómez Castro, Alejandro Mantilla Redondo, Diego Alejandro Cely Gómez.\n",
    "\n",
    "__Desarrollado por:__ Ibeth Karine Terán\n",
    "\n",
    "__Fecha última actualización__: 08/09/2024"
   ]
  },
  {
   "cell_type": "markdown",
   "metadata": {},
   "source": [
    "## Desarrollo de una herramienta analítica usando recursos nativos de Python"
   ]
  },
  {
   "cell_type": "markdown",
   "metadata": {},
   "source": [
    "Para el desarrollo de esta herramiento se utilizan únicamente recursos nativos de Python. Adicionalmente, previo al desarrollo de cada fase, se explica su objetivo. "
   ]
  },
  {
   "cell_type": "markdown",
   "metadata": {},
   "source": [
    "### Contexto: exploración del potencial para asignar becas Unialpes"
   ]
  },
  {
   "cell_type": "markdown",
   "metadata": {},
   "source": [
    "La Universidad de los Alpes se ha caracterizado por su compromiso con la generación de impacto en la sociedad a través de diferentes programas de becas. Programas como Becas para los Mejores, entre otros, han sido revolucionarios al permitir que estudiantes de bajos recursos puedan acceder a una de las universidades más prestigiosas del país."
   ]
  },
  {
   "cell_type": "markdown",
   "metadata": {},
   "source": [
    "Actualmente, la universidad quiere evaluar el potencial impacto que tendrían algunos programas de acción afirmativa para asignación de becas, con base en información demográfica que ha obtenido a través de encuestas a personas interesadas en becas. Se cuenta con información respecto a la edad, género, estado civil, estrato socioeconómico, región de proveniencia, desempeño académico y nivel de escolaridad de las personas encuestadas. Los encargados de diseñar el programa saben que utilizar criterios basados en este tipo de variables es un tema sensible, pero es necesario si se quieren focalizar las oportunidades en poblaciones menos representadas."
   ]
  },
  {
   "cell_type": "markdown",
   "metadata": {},
   "source": [
    "El objetivo es crear una herramienta computacional que permita a un tomador de decisiones explorar qué efecto podría tener el uso de diferentes reglas para seleccionar a los beneficiarios de las becas. Puntualmente, se espera que, para distintas reglas de selección (ej., pertenecer a cierta región, rango de edad, etc.), la herramienta ofrezca una caracterización de los potenciales beneficiarios de las becas (a partir de estadísticas descriptivas y visualizaciones), de forma que exista un sustento para elegir la regla de selección adecuada."
   ]
  },
  {
   "cell_type": "markdown",
   "metadata": {},
   "source": [
    "## Fase 1: obtener e inspeccionar archivos"
   ]
  },
  {
   "cell_type": "markdown",
   "metadata": {},
   "source": [
    "Los datos de encuestas fueron obtenidos como parte de un trabajo de campo, por lo que se cuenta con la información en archivos de texto plano (`.txt`). Cada archivo corresponde a uno de los atributos antes mencionados y están estructurados de forma que todos relacionan a las personas encuestadas en el mismo orden (i.e., en cada archivo la primera línea corresponde a un dato de la primera persona encuestada, la segunda línea corresponde a un dato de la segunda persona encuestada, etc.)."
   ]
  },
  {
   "cell_type": "markdown",
   "metadata": {},
   "source": [
    "Los archivos con los que cuentas son:\n",
    "\n",
    "* `\"edad.txt\"`: un archivo con la edad de cada persona encuestada;\n",
    "* `\"escolaridad.txt\"`: un archivo con el nivel de escolaridad de cada persona encuestada;\n",
    "* `\"estado_civil.txt\"`: un archivo con el estado civil de cada persona encuestada;\n",
    "* `\"estrato.txt\"`: un archivo con el estrato socioeconómico de cada persona encuestada;\n",
    "* `\"genero.txt\"`: un archivo con el género de cada persona encuestada;\n",
    "* `\"promedio.txt\"`: un archivo con el promedio académico de cada persona encuestada;\n",
    "* `\"region.txt\"`: un archivo con la región de proveniencia de cada persona encuestada."
   ]
  },
  {
   "cell_type": "code",
   "execution_count": 7,
   "metadata": {},
   "outputs": [],
   "source": [
    "# Librerias\n",
    "import math\n",
    "import matplotlib.pyplot as plt"
   ]
  },
  {
   "cell_type": "markdown",
   "metadata": {},
   "source": [
    "### Cargue de inputs"
   ]
  },
  {
   "cell_type": "code",
   "execution_count": 8,
   "metadata": {},
   "outputs": [],
   "source": [
    "def leer_archivo (ruta):\n",
    "    with open(ruta, \"r\") as documento:\n",
    "        lineas = documento.read()\n",
    "        lista_archivo = lineas.splitlines()\n",
    "     \n",
    "        return(lista_archivo)\n",
    "\n",
    "archivos = [\"edad\", \"escolaridad\", \"estado_civil\", \"estrato\", \"genero\", \"promedio\", \"region\"]\n",
    "diccionario_datos = {}\n",
    "\n",
    "for archivo in archivos:\n",
    "    lista = leer_archivo(\"../Data/Scholarships_Unialpes/\"+ archivo + \".txt\")\n",
    "    \n",
    "    if archivo == \"edad\" or archivo == \"estrato\":\n",
    "        lista = [int(elemento) for elemento in lista]\n",
    "    elif archivo == \"promedio\":\n",
    "        lista = [float(elemento) for elemento in lista]\n",
    "        \n",
    "    diccionario_datos[archivo] = lista"
   ]
  },
  {
   "cell_type": "markdown",
   "metadata": {},
   "source": [
    "### Estadísticas descriptivas básicas"
   ]
  },
  {
   "cell_type": "code",
   "execution_count": 3,
   "metadata": {},
   "outputs": [],
   "source": [
    "# Implementa tu respuesta en esta celda\n",
    "def calculo_media (lista_a_calcular):\n",
    "    suma = sum(lista_a_calcular)\n",
    "    media = suma/(len(lista))\n",
    "    return (media)\n",
    "\n",
    "def calculo_mediana (lista_a_calcular):\n",
    "    lista_ordenada = sorted(lista_a_calcular)\n",
    "    num_datos = len(lista_ordenada)\n",
    "    if num_datos % 2 == 0:\n",
    "        mediana = (lista_ordenada[int(num_datos/2)-1] + lista_ordenada[int(num_datos/2)])/2\n",
    "    if num_datos % 2 != 0:\n",
    "        mediana = lista_ordenada[int(num_datos/2)-1]\n",
    "    return(mediana)\n",
    "\n",
    "def calculo_varianza_desv_std (lista_a_calcular, media):\n",
    "    sumatoria = 0\n",
    "    for i in lista_a_calcular:\n",
    "        sumatoria += (i - media)**2\n",
    "    varianza = sumatoria/len(lista_a_calcular)\n",
    "    desv_std = math.sqrt(varianza)\n",
    "    return [varianza, desv_std]\n",
    "        \n",
    "def histograma_cuantitativo (lista_a_calcular,bins):\n",
    "    # plt.figure(figsize=(5, 6))\n",
    "    fig, ax = plt.subplots(figsize=(5, 5.8))    \n",
    "    \n",
    "    n, bins, patches = plt.hist(lista_a_calcular, bins=bins, density=False, edgecolor='black')\n",
    "    #  SABER LOS INTERVALOS print(bins)\n",
    "    # fig.suptitle(\"Histograma\",color=\"black\")\n",
    "    ax.grid(True, axis='y')\n",
    "    #ax.set_xticks(bins)\n",
    "    ax.set_ylabel('Frecuencia absoluta')\n",
    "    \n",
    "    cm = plt.cm.get_cmap('BuGn')\n",
    "    col = (n-n.min())/(n.max()-n.min())\n",
    "    for c, p in zip(col, patches):\n",
    "        plt.setp(p, 'facecolor', cm(c))\n",
    "    plt.show()\n",
    "        \n",
    "    return fig\n",
    "\n",
    "def histograma_cualitativo (lista_a_calcular):\n",
    "    fig, ax = plt.subplots(figsize=(5, 5.8))   \n",
    "    valores_unicos = list(set(lista_a_calcular))\n",
    "    mayus_valores_unicos = [vu.capitalize() for vu in valores_unicos]\n",
    "\n",
    "    frecuencia_valores_unicos = [lista_a_calcular.count(k) for k in valores_unicos]\n",
    "    \n",
    "    # escala de colores\n",
    "    cm = plt.cm.get_cmap('Pastel2')\n",
    "    def rescala_cm(list_frec):\n",
    "        rescala = [(val - min(frecuencia_valores_unicos)) / (max(frecuencia_valores_unicos) - min(frecuencia_valores_unicos)) for val in list_frec]\n",
    "        return rescala\n",
    "\n",
    "    plt.bar(mayus_valores_unicos, frecuencia_valores_unicos, color=cm(rescala_cm(frecuencia_valores_unicos)), edgecolor='black')\n",
    "    ax.grid(True, axis='y')\n",
    "    ax.set_ylabel('Frecuencia absoluta')\n",
    "    plt.show()\n",
    "\n",
    "        \n",
    "    return fig\n",
    "\n",
    "def pastel (lista_a_calcular):\n",
    "    # plt.figure(figsize=(5, 6))\n",
    "    fig, ax = plt.subplots(figsize=(5, 5.8))   \n",
    "    valores_unicos = list(set(lista_a_calcular))\n",
    "    # mayus_valores_unicos = [vu.capitalize() for vu in valores_unicos]\n",
    "    frecuencia_valores_unicos = [lista_a_calcular.count(k) for k in valores_unicos]\n",
    "\n",
    "    # Escala con librerias externas\n",
    "    # cm = plt.cm.get_cmap(\"tab20b\")\n",
    "    # rescale = lambda y: (y - np.min(y)) / (np.max(y) - np.min(y))\n",
    "    # escala de colores\n",
    "    cm = plt.cm.get_cmap('Set3')\n",
    "    def rescala_cm(list_frec):\n",
    "        rescala = [(val - min(frecuencia_valores_unicos)) / (max(frecuencia_valores_unicos) - min(frecuencia_valores_unicos)) for val in list_frec]\n",
    "        return rescala\n",
    "    \n",
    "    wedges, texts, autotexts = ax.pie(frecuencia_valores_unicos, colors=cm(rescala_cm(frecuencia_valores_unicos)), autopct='%1.1f%%', textprops=dict(color=\"black\"))\n",
    "\n",
    "    ax.legend(wedges, valores_unicos,\n",
    "          title=\"Variable\",\n",
    "          loc=\"center left\",\n",
    "          bbox_to_anchor=(1, 0, 0.5, 1))\n",
    "    plt.show()\n",
    "\n",
    "    return fig\n"
   ]
  },
  {
   "cell_type": "code",
   "execution_count": 4,
   "metadata": {},
   "outputs": [
    {
     "name": "stdout",
     "output_type": "stream",
     "text": [
      "                       EDAD                \n",
      "Media: 48.748\n",
      "Mediana: 49.0\n",
      "Varianza: 345.768496\n",
      "Desviación Estandar: 18.59485133040864\n"
     ]
    },
    {
     "data": {
      "image/png": "[encoded data removed]",
      "text/plain": [
       "<Figure size 360x417.6 with 1 Axes>"
      ]
     },
     "metadata": {
      "needs_background": "light"
     },
     "output_type": "display_data"
    }
   ],
   "source": [
    "print(\"                       EDAD                \")\n",
    "edad = diccionario_datos[\"edad\"]\n",
    "media_edad = calculo_media(edad)\n",
    "print(f'Media: {media_edad}')\n",
    "mediana_edad = calculo_mediana(edad)\n",
    "print(f'Mediana: {mediana_edad}')\n",
    "varianza_dsv_std_edad = calculo_varianza_desv_std(edad, media_edad)\n",
    "print(f'Varianza: {varianza_dsv_std_edad[0]}\\nDesviación Estandar: {varianza_dsv_std_edad[1]}')\n",
    "figura = histograma_cuantitativo(edad,7)"
   ]
  },
  {
   "cell_type": "code",
   "execution_count": 5,
   "metadata": {},
   "outputs": [
    {
     "name": "stdout",
     "output_type": "stream",
     "text": [
      "                 ESCOLARIDAD            \n"
     ]
    },
    {
     "data": {
      "image/png": "[encoded data removed]",
      "text/plain": [
       "<Figure size 360x417.6 with 1 Axes>"
      ]
     },
     "metadata": {
      "needs_background": "light"
     },
     "output_type": "display_data"
    }
   ],
   "source": [
    "print(\"                 ESCOLARIDAD            \")\n",
    "escolaridad = diccionario_datos[\"escolaridad\"]\n",
    "figura_cual_escolaridad = histograma_cualitativo(escolaridad)"
   ]
  },
  {
   "cell_type": "code",
   "execution_count": 6,
   "metadata": {},
   "outputs": [
    {
     "name": "stdout",
     "output_type": "stream",
     "text": [
      "                ESTADO CIVIL          \n"
     ]
    },
    {
     "data": {
      "image/png": "[encoded data removed]",
      "text/plain": [
       "<Figure size 360x417.6 with 1 Axes>"
      ]
     },
     "metadata": {
      "needs_background": "light"
     },
     "output_type": "display_data"
    }
   ],
   "source": [
    "print(\"                ESTADO CIVIL          \")\n",
    "estado_cvl = diccionario_datos['estado_civil']\n",
    "figura_cual_estado_cvl = histograma_cualitativo(estado_cvl)"
   ]
  },
  {
   "cell_type": "code",
   "execution_count": 7,
   "metadata": {},
   "outputs": [
    {
     "name": "stdout",
     "output_type": "stream",
     "text": [
      "                  ESTRATO      \n",
      "Media: 2.308\n",
      "Mediana: 2.0\n",
      "Varianza: 0.9531359999999944 \n",
      "Desviación Estandar: 0.9762868430947917\n"
     ]
    },
    {
     "data": {
      "image/png": "[encoded data removed]",
      "text/plain": [
       "<Figure size 360x417.6 with 1 Axes>"
      ]
     },
     "metadata": {},
     "output_type": "display_data"
    }
   ],
   "source": [
    "print(\"                  ESTRATO      \")\n",
    "estrato = diccionario_datos['estrato']\n",
    "media_estrato = calculo_media(estrato)\n",
    "print(f'Media: {media_estrato}')\n",
    "varianza_dsv_std_estrato = calculo_varianza_desv_std(estrato, media_estrato)\n",
    "mediana_estrato = calculo_mediana(estrato)\n",
    "print(f'Mediana: {mediana_estrato}')\n",
    "print(f'Varianza: {varianza_dsv_std_estrato[0]} \\nDesviación Estandar: {varianza_dsv_std_estrato[1]}')\n",
    "fig_estrato = pastel(estrato)"
   ]
  },
  {
   "cell_type": "code",
   "execution_count": 8,
   "metadata": {},
   "outputs": [
    {
     "name": "stdout",
     "output_type": "stream",
     "text": [
      "                GÉNERO\n"
     ]
    },
    {
     "data": {
      "image/png": "[encoded data removed]",
      "text/plain": [
       "<Figure size 360x417.6 with 1 Axes>"
      ]
     },
     "metadata": {},
     "output_type": "display_data"
    }
   ],
   "source": [
    "print(\"                GÉNERO\")\n",
    "genero = diccionario_datos[\"genero\"]\n",
    "figura_pastel = pastel(genero)"
   ]
  },
  {
   "cell_type": "code",
   "execution_count": 9,
   "metadata": {},
   "outputs": [
    {
     "name": "stdout",
     "output_type": "stream",
     "text": [
      "                     PROMEDIO\n",
      "Media: 2.6212000000000004\n",
      "Mediana: 2.7\n",
      "Varianza: 1.2452705600000036 \n",
      "Desviación Estandar: 1.1159169144698917\n"
     ]
    },
    {
     "data": {
      "image/png": "[encoded data removed]",
      "text/plain": [
       "<Figure size 360x417.6 with 1 Axes>"
      ]
     },
     "metadata": {
      "needs_background": "light"
     },
     "output_type": "display_data"
    }
   ],
   "source": [
    "print(\"                     PROMEDIO\")\n",
    "promedio = diccionario_datos[\"promedio\"]\n",
    "media_promedio = calculo_media(promedio)\n",
    "print(f'Media: {media_promedio}')\n",
    "varianza_dsv_std_promedio = calculo_varianza_desv_std(promedio, media_promedio)\n",
    "mediana_prom = calculo_mediana(promedio)\n",
    "print(f'Mediana: {mediana_prom}')\n",
    "print(f'Varianza: {varianza_dsv_std_promedio[0]} \\nDesviación Estandar: {varianza_dsv_std_promedio[1]}')\n",
    "figura = histograma_cuantitativo(promedio,10)"
   ]
  },
  {
   "cell_type": "code",
   "execution_count": 10,
   "metadata": {},
   "outputs": [
    {
     "name": "stdout",
     "output_type": "stream",
     "text": [
      "              REGIÓN\n"
     ]
    },
    {
     "data": {
      "image/png": "[encoded data removed]",
      "text/plain": [
       "<Figure size 360x417.6 with 1 Axes>"
      ]
     },
     "metadata": {},
     "output_type": "display_data"
    }
   ],
   "source": [
    "print(\"              REGIÓN\")\n",
    "region = diccionario_datos[\"region\"]\n",
    "figura_pastel = pastel(region)"
   ]
  },
  {
   "cell_type": "markdown",
   "metadata": {},
   "source": [
    "##### Conclusiones:\n",
    "\n",
    "- La edad presenta una distribución uniforme con alta variabilidad, ya que no se observa una tendencia central marcada. Por lo que si sólo se considerara este parámetro para la asignación de becas no sería muy adecuado, debido a que seria desproporcional.\n",
    "- La mayoria de las personas encuestadas han alcanzado un grado de escolaridad de secundaria y están casadas.\n",
    "- Más del 50% de las personas encuestadas son mujeres. El 9% de la población corresponde a géneros diferentes a másculino y femenino.\n",
    "- La mayor parte de las personas encuestadas provienen de las regiones 4, 2 y 1. Encontrandose en una similar y en alta proporción las regiones 1 y 2, mientras que de la región 5 proviene sólo el 3%.\n",
    "- La gráfica de promedios exhibe un leve sesgamiento hacia la izquierda y comportamiento bimodal\n"
   ]
  },
  {
   "cell_type": "markdown",
   "metadata": {},
   "source": [
    "## Fase 2: abordar la pregunta de negocio"
   ]
  },
  {
   "cell_type": "markdown",
   "metadata": {},
   "source": [
    "El comité encargado de diseñar el programa de becas ha tenido dificultades para llegar a acuerdos. Algunos piensan que considerar las características sociodemográficas (ej., género, región, etc.) es parte del espíritu del programa, mientras que otros piensan que el criterio de selección debería centrarse estrictamente en lo económico y académico. Dado esto, el comité ha sugerido evaluar dos propuestas, suponiendo un número $N$ de becas disponibles."
   ]
  },
  {
   "cell_type": "markdown",
   "metadata": {},
   "source": [
    "* La primera propuesta sugiere que se deben tomar las diferentes regiones y géneros y, para cada una de las combinaciones de estos dos criterios, asignar una cantidad de becas proporcional al número de personas de esa subpoblación con respecto al total de personas encuestadas. Dentro de cada subpoblación, las becas deben aprobarse a las personas con mejor promedio académico."
   ]
  },
  {
   "cell_type": "markdown",
   "metadata": {},
   "source": [
    "* La segunda propuesta sugiere que se deben tomar en orden ascendente los estratos y, en cada uno de ellos, asignar una beca a cada una de las personas que se encuentren dentro del 2% con mejor promedio académico en esa subpoblación. En caso de quedar becas disponibles luego de haber cubierto todos los estratos, se repite el mismo esquema hasta asignar todas las becas disponibles, excluyendo a las personas a quienes se les haya asignado una beca en alguna ronda anterior."
   ]
  },
  {
   "cell_type": "markdown",
   "metadata": {},
   "source": [
    "### Definición de la pregunta de negocio y analytics"
   ]
  },
  {
   "cell_type": "markdown",
   "metadata": {},
   "source": [
    "**PREGUNTA DE NEGOCIO:** ¿La distribución de becas debe tener en cuenta solamente las condiciones sociodemográficas como región y género mediante una asignación proporcional a cada subpoblación, o debe basarse en el aspecto económico, priorizando los estrato más bajos (poblaciones vulnerables) y asignando becas en todos los estratos a aquellos que han destacado academicamente?\n",
    "\n",
    "**PREGUNTA DE ANALYTICS:** ¿Cúal es la forma de distribución y qué medidas de dispersión (si aplica) tienen los de los datos de promedio, género, región y estrato?"
   ]
  },
  {
   "cell_type": "markdown",
   "metadata": {},
   "source": [
    "### Primera propuesta: Selección de los principales beneficiarios según el número N de becas disponibles"
   ]
  },
  {
   "cell_type": "code",
   "execution_count": 13,
   "metadata": {},
   "outputs": [
    {
     "name": "stdout",
     "output_type": "stream",
     "text": [
      "PROPUESTA 1: De acuerdo a los criterios se definió que de 20 grupos, se becaron a 16 grupos. \n",
      "             A continuación se muestra la distribución de becas por grupos: \n",
      "\n",
      "Grupo: ('Region_4', 'femenino') ---> No.Becas: 21\n",
      "[243, 60, 308, 70, 256, 453, 108, 213, 145, 433, 17, 36, 53, 193, 377, 51, 30, 123, 367, 466, 120]\n",
      "----------------------------------------\n",
      "\n",
      "Grupo: ('Region_4', 'masculino') ---> No.Becas: 14\n",
      "[491, 159, 454, 319, 434, 169, 202, 291, 489, 341, 254, 357, 482, 85]\n",
      "----------------------------------------\n",
      "\n",
      "Grupo: ('Region_1', 'masculino') ---> No.Becas: 14\n",
      "[162, 394, 9, 452, 222, 398, 428, 281, 33, 374, 149, 175, 458, 163]\n",
      "----------------------------------------\n",
      "\n",
      "Grupo: ('Region_2', 'femenino') ---> No.Becas: 12\n",
      "[363, 109, 355, 287, 262, 250, 337, 69, 107, 294, 368, 386]\n",
      "----------------------------------------\n",
      "\n",
      "Grupo: ('Region_1', 'femenino') ---> No.Becas: 12\n",
      "[7, 207, 137, 409, 134, 45, 74, 356, 92, 115, 321, 366]\n",
      "----------------------------------------\n",
      "\n",
      "Grupo: ('Region_2', 'masculino') ---> No.Becas: 9\n",
      "[376, 471, 385, 161, 79, 253, 289, 188, 240]\n",
      "----------------------------------------\n",
      "\n",
      "Grupo: ('Region_3', 'femenino') ---> No.Becas: 3\n",
      "[113, 99, 228]\n",
      "----------------------------------------\n",
      "\n",
      "Grupo: ('Region_3', 'masculino') ---> No.Becas: 3\n",
      "[422, 138, 194]\n",
      "----------------------------------------\n",
      "\n",
      "Grupo: ('Region_4', 'no binario') ---> No.Becas: 3\n",
      "[22, 96, 104]\n",
      "----------------------------------------\n",
      "\n",
      "Grupo: ('Region_1', 'no binario') ---> No.Becas: 2\n",
      "[259, 283]\n",
      "----------------------------------------\n",
      "\n",
      "Grupo: ('Region_2', 'no binario') ---> No.Becas: 2\n",
      "[361, 179]\n",
      "----------------------------------------\n",
      "\n",
      "Grupo: ('Region_5', 'masculino') ---> No.Becas: 1\n",
      "[49]\n",
      "----------------------------------------\n",
      "\n",
      "Grupo: ('Region_5', 'femenino') ---> No.Becas: 1\n",
      "[478]\n",
      "----------------------------------------\n",
      "\n",
      "Grupo: ('Region_4', 'otro') ---> No.Becas: 1\n",
      "[136]\n",
      "----------------------------------------\n",
      "\n",
      "Grupo: ('Region_5', 'no binario') ---> No.Becas: 1\n",
      "[375]\n",
      "----------------------------------------\n",
      "\n",
      "Grupo: ('Region_5', 'otro') ---> No.Becas: 1\n",
      "[195]\n",
      "----------------------------------------\n",
      "\n",
      "Becas: 100\n",
      "Lista de todos los seleccionados: [243, 60, 308, 70, 256, 453, 108, 213, 145, 433, 17, 36, 53, 193, 377, 51, 30, 123, 367, 466, 120, 491, 159, 454, 319, 434, 169, 202, 291, 489, 341, 254, 357, 482, 85, 162, 394, 9, 452, 222, 398, 428, 281, 33, 374, 149, 175, 458, 163, 363, 109, 355, 287, 262, 250, 337, 69, 107, 294, 368, 386, 7, 207, 137, 409, 134, 45, 74, 356, 92, 115, 321, 366, 376, 471, 385, 161, 79, 253, 289, 188, 240, 113, 99, 228, 422, 138, 194, 22, 96, 104, 259, 283, 361, 179, 49, 478, 136, 375, 195]\n"
     ]
    }
   ],
   "source": [
    "# Implementa tu respuesta en esta celda\n",
    "edad_copia = edad[:]\n",
    "escolaridad_copia = escolaridad[:]\n",
    "estado_cvl_copia = estado_cvl[:]\n",
    "estrato_copia = estrato[:]\n",
    "genero_copia = genero[:]\n",
    "promedio_copia = promedio[:]\n",
    "region_copia = region[:]\n",
    "\n",
    "def organizar_indices_lista_desde_otra_lista_reslistaindxord (lista_indices, lista_base):\n",
    "    lista_indice_valor_f = [(lista_indices[i], lista_base[i]) for i in range(0,len(lista_base))]\n",
    "    lista_indice_valor_cop_f = lista_indice_valor_f[:]\n",
    "    lista_indx_val_orgz = sorted(lista_indice_valor_cop_f, key=lambda lista_indice_valor_cop_f: lista_indice_valor_cop_f[1], reverse=True)\n",
    "    lista_indx_orgz = [indice[0] for indice in lista_indx_val_orgz]\n",
    "    return lista_indx_orgz\n",
    "\n",
    "def PROPUESTA1_reg_gen (N):\n",
    "    val_uni_reg = list(set(region_copia))\n",
    "    regiones = sorted(val_uni_reg)\n",
    "\n",
    "\n",
    "    val_uni_gnro = list(set(genero_copia))\n",
    "    generos = sorted(val_uni_gnro)\n",
    "\n",
    "    # Encuentro los grupos totales\n",
    "    grupos = [(reg,gen) for reg in regiones for gen in generos]\n",
    "    # Hago tuplas de region, genero para toda la población\n",
    "    reg_gen_poblacion_total = [(region_copia[y], genero_copia[y]) for y in range(0, len(region_copia))]\n",
    "    # Encuentro cuantas personas hay en cada grupo\n",
    "    frec_reg_gen_pob_total = [reg_gen_poblacion_total.count(grup) for grup in grupos]\n",
    "    # porcentaje de cada grupo de region_genero\n",
    "    porc_reg_gen_pob_total = [(frecgrup/len(region_copia))*100 for frecgrup in frec_reg_gen_pob_total]\n",
    "    \n",
    "    # organizar_por_indice\n",
    "    lista_indice_valor = list(enumerate(porc_reg_gen_pob_total))\n",
    "    lista_indice_valor_cop = lista_indice_valor[:]\n",
    "    lista_indx_val_organizada = sorted(lista_indice_valor_cop, key=lambda lista_indice_valor_cop: lista_indice_valor_cop[1], reverse=True)\n",
    "    lista_indices_org = [indice[0] for indice in lista_indx_val_organizada]\n",
    "\n",
    "    # porcentajes organizados de mayor a menor y lista correspondiente de grupos\n",
    "    porc_rg_pob_total_cop = porc_reg_gen_pob_total[:]\n",
    "    porc_organizados_grupos = sorted(porc_rg_pob_total_cop, reverse=True)\n",
    "    grupo_organ_x_porc = [grupos[indice_buscar] for indice_buscar in lista_indices_org]\n",
    "\n",
    "    # Distribución de becas\n",
    "    becas_por_grupo = []\n",
    "    for porc_rg_org in porc_organizados_grupos:\n",
    "        # Dar una beca a poblaciones minoritarias\n",
    "        if porc_rg_org >0 and porc_rg_org < (1*100/N) and sum(becas_por_grupo) < N:\n",
    "            becas_por_grupo.append(1)\n",
    "        else:\n",
    "            if sum(becas_por_grupo) < N:\n",
    "                becas_por_grupo.append(round(porc_rg_org*N/100))\n",
    "            else:\n",
    "                becas_por_grupo.append(0)\n",
    "\n",
    "    # sum_becas_asign = sum(becas_por_grupo)\n",
    "\n",
    "    # ------------ Información -----------------\n",
    "\n",
    "    count_num_gp = 0\n",
    "    num_grupos_becados = 0\n",
    "     \n",
    "    for grupo_orga in grupo_organ_x_porc:\n",
    "        becas_asig = becas_por_grupo[count_num_gp]\n",
    "        if becas_asig > 0:\n",
    "            num_grupos_becados += 1\n",
    "            count_num_gp += 1\n",
    "    \n",
    "    print(f\"\"\"PROPUESTA 1: De acuerdo a los criterios se definió que de {len(grupo_organ_x_porc)} grupos, se becaron a {num_grupos_becados} grupos. \n",
    "             A continuación se muestra la distribución de becas por grupos: \\n\"\"\")\n",
    "    grupos_becados = grupo_organ_x_porc[:num_grupos_becados]\n",
    "    puesto_grupo_becado = 0\n",
    "    # ------------------------------------------\n",
    "    \n",
    "    # Asignación de becas a mejores promedios\n",
    "    lista_becados_1p = []\n",
    "    for (reg,gen) in grupos_becados:\n",
    "        print(f'Grupo: {reg,gen} ---> No.Becas: {becas_por_grupo[puesto_grupo_becado]}')\n",
    "        indxs_miembro_todos = [indx_gen for indx_gen in range(len(region_copia)) if region_copia[indx_gen]==reg and genero_copia[indx_gen]==gen]\n",
    "        promedios_miembros = [promedio_copia[indx_miem] for indx_miem in indxs_miembro_todos]\n",
    "    \n",
    "        idx_miem_todos_orgz_x_prom = organizar_indices_lista_desde_otra_lista_reslistaindxord(indxs_miembro_todos, promedios_miembros)\n",
    "        indx_seleccionados = idx_miem_todos_orgz_x_prom[:becas_por_grupo[puesto_grupo_becado]]\n",
    "        for idx_selecc in indx_seleccionados:\n",
    "            lista_becados_1p.append(idx_selecc)\n",
    "        print(indx_seleccionados)\n",
    "        print(\"----------------------------------------\\n\")\n",
    "    \n",
    "        puesto_grupo_becado += 1\n",
    "    \n",
    "    return lista_becados_1p\n",
    "\n",
    "# Para el ejemplo se toman 100 becas a asignar\n",
    "N = 100\n",
    "lista_becados_1p = PROPUESTA1_reg_gen(N)\n",
    "print(f'Becas: {N}')\n",
    "print(f'Lista de todos los seleccionados: {lista_becados_1p}')"
   ]
  },
  {
   "cell_type": "markdown",
   "metadata": {},
   "source": [
    "### Segunda propuesta: Selección de los principales beneficiarios según el número N de becas disponibles"
   ]
  },
  {
   "cell_type": "code",
   "execution_count": 14,
   "metadata": {},
   "outputs": [
    {
     "name": "stdout",
     "output_type": "stream",
     "text": [
      "PROPUESTA 2: Usando los criterios, la distribución de becas se realizó de la siguiente manera: \n",
      "\n",
      "----------------------------------------\n",
      "\n",
      "RONDA 1\n",
      "\n",
      "Estrato: 1 ---> No.Becas: 2\n",
      "Indices de seleccionados: [376, 162]\n",
      "\n",
      "Estrato: 2 ---> No.Becas: 4\n",
      "Indices de seleccionados: [243, 7, 207, 491]\n",
      "\n",
      "Estrato: 3 ---> No.Becas: 3\n",
      "Indices de seleccionados: [60, 471, 109]\n",
      "\n",
      "Estrato: 4 ---> No.Becas: 1\n",
      "Indices de seleccionados: [394]\n",
      "\n",
      "Estrato: 5 ---> No.Becas: 1\n",
      "Indices de seleccionados: [259]\n",
      "\n",
      "----------------------------------------\n",
      "\n",
      "RONDA 2\n",
      "\n",
      "Estrato: 1 ---> No.Becas: 2\n",
      "Indices de seleccionados: [363, 283]\n",
      "\n",
      "Estrato: 2 ---> No.Becas: 4\n",
      "Indices de seleccionados: [137, 478, 409, 452]\n",
      "\n",
      "Estrato: 3 ---> No.Becas: 3\n",
      "Indices de seleccionados: [159, 9, 49]\n",
      "\n",
      "Estrato: 4 ---> No.Becas: 1\n",
      "Indices de seleccionados: [53]\n",
      "\n",
      "Estrato: 5 ---> No.Becas: 1\n",
      "Indices de seleccionados: [99]\n",
      "\n",
      "----------------------------------------\n",
      "\n",
      "RONDA 3\n",
      "\n",
      "Estrato: 1 ---> No.Becas: 2\n",
      "Indices de seleccionados: [385, 287]\n",
      "\n",
      "Estrato: 2 ---> No.Becas: 4\n",
      "Indices de seleccionados: [222, 308, 355, 22]\n",
      "\n",
      "Estrato: 3 ---> No.Becas: 3\n",
      "Indices de seleccionados: [161, 134, 256]\n",
      "\n",
      "Estrato: 4 ---> No.Becas: 1\n",
      "Indices de seleccionados: [378]\n",
      "\n",
      "Estrato: 5 ---> No.Becas: 1\n",
      "Indices de seleccionados: [38]\n",
      "\n",
      "----------------------------------------\n",
      "\n",
      "RONDA 4\n",
      "\n",
      "Estrato: 1 ---> No.Becas: 2\n",
      "Indices de seleccionados: [398, 422]\n",
      "\n",
      "Estrato: 2 ---> No.Becas: 3\n",
      "Indices de seleccionados: [70, 262, 96]\n",
      "\n",
      "Estrato: 3 ---> No.Becas: 3\n",
      "Indices de seleccionados: [428, 453, 45]\n",
      "\n",
      "Estrato: 4 ---> No.Becas: 1\n",
      "Indices de seleccionados: [168]\n",
      "\n",
      "Estrato: 5 ---> No.Becas: 1\n",
      "Indices de seleccionados: [242]\n",
      "\n",
      "----------------------------------------\n",
      "\n",
      "RONDA 5\n",
      "\n",
      "Estrato: 1 ---> No.Becas: 2\n",
      "Indices de seleccionados: [108, 213]\n",
      "\n",
      "Estrato: 2 ---> No.Becas: 3\n",
      "Indices de seleccionados: [337, 17, 33]\n",
      "\n",
      "Estrato: 3 ---> No.Becas: 3\n",
      "Indices de seleccionados: [454, 74, 79]\n",
      "\n",
      "Estrato: 4 ---> No.Becas: 1\n",
      "Indices de seleccionados: [384]\n",
      "\n",
      "Estrato: 5 ---> No.Becas: 1\n",
      "Indices de seleccionados: [351]\n",
      "\n",
      "----------------------------------------\n",
      "\n",
      "RONDA 6\n",
      "\n",
      "Estrato: 1 ---> No.Becas: 2\n",
      "Indices de seleccionados: [250, 253]\n",
      "\n",
      "Estrato: 2 ---> No.Becas: 3\n",
      "Indices de seleccionados: [36, 69, 113]\n",
      "\n",
      "Estrato: 3 ---> No.Becas: 3\n",
      "Indices de seleccionados: [138, 145, 319]\n",
      "\n",
      "Estrato: 4 ---> No.Becas: 1\n",
      "Indices de seleccionados: [195]\n",
      "\n",
      "Estrato: 5 ---> No.Becas: 1\n",
      "Indices de seleccionados: [0]\n",
      "\n",
      "----------------------------------------\n",
      "\n",
      "RONDA 7\n",
      "\n",
      "Estrato: 1 ---> No.Becas: 2\n",
      "Indices de seleccionados: [281, 289]\n",
      "\n",
      "Estrato: 2 ---> No.Becas: 3\n",
      "Indices de seleccionados: [356, 51, 115]\n",
      "\n",
      "Estrato: 3 ---> No.Becas: 3\n",
      "Indices de seleccionados: [433, 188, 374]\n",
      "\n",
      "Estrato: 4 ---> No.Becas: 1\n",
      "Indices de seleccionados: [392]\n",
      "\n",
      "Estrato: 5 ---> No.Becas: 1\n",
      "Indices de seleccionados: [196]\n",
      "\n",
      "----------------------------------------\n",
      "\n",
      "RONDA 8\n",
      "\n",
      "Estrato: 1 ---> No.Becas: 2\n",
      "Indices de seleccionados: [361, 434]\n",
      "\n",
      "Estrato: 2 ---> No.Becas: 3\n",
      "Indices de seleccionados: [169, 194, 240]\n",
      "\n",
      "Estrato: 3 ---> No.Becas: 3\n",
      "Indices de seleccionados: [149, 202, 291]\n",
      "\n",
      "Estrato: 4 ---> No.Becas: 1\n",
      "Indices de seleccionados: [181]\n",
      "\n",
      "Estrato: 5 ---> No.Becas: 1\n",
      "Indices de seleccionados: [296]\n",
      "\n",
      "----------------------------------------\n",
      "\n",
      "RONDA 9\n",
      "\n",
      "Estrato: 1 ---> No.Becas: 2\n",
      "Indices de seleccionados: [193, 377]\n",
      "\n",
      "Estrato: 2 ---> No.Becas: 3\n",
      "Indices de seleccionados: [366, 458, 123]\n",
      "\n",
      "Estrato: 3 ---> No.Becas: 3\n",
      "Indices de seleccionados: [294, 400, 472]\n",
      "\n",
      "Estrato: 4 ---> No.Becas: 1\n",
      "Indices de seleccionados: [153]\n",
      "\n",
      "Estrato: 5 ---> No.Becas: 1\n",
      "Indices de seleccionados: [360]\n",
      "\n",
      "----------------------------------------\n",
      "\n",
      "RONDA 10\n",
      "\n",
      "Estrato: 1 ---> No.Becas: 2\n",
      "Indices de seleccionados: [92, 175]\n",
      "\n",
      "Estrato: 2 ---> No.Becas: 3\n",
      "Indices de seleccionados: [330, 367, 110]\n",
      "\n",
      "Estrato: 3 ---> No.Becas: 2\n",
      "Indices de seleccionados: [120, 179]\n",
      "\n",
      "Becas: 100\n",
      "Lista de todos los seleccionados: [376, 162, 243, 7, 207, 491, 60, 471, 109, 394, 259, 363, 283, 137, 478, 409, 452, 159, 9, 49, 53, 99, 385, 287, 222, 308, 355, 22, 161, 134, 256, 378, 38, 398, 422, 70, 262, 96, 428, 453, 45, 168, 242, 108, 213, 337, 17, 33, 454, 74, 79, 384, 351, 250, 253, 36, 69, 113, 138, 145, 319, 195, 0, 281, 289, 356, 51, 115, 433, 188, 374, 392, 196, 361, 434, 169, 194, 240, 149, 202, 291, 181, 296, 193, 377, 366, 458, 123, 294, 400, 472, 153, 360, 92, 175, 330, 367, 110, 120, 179]\n"
     ]
    }
   ],
   "source": [
    "# Implementa tu respuesta en esta celda\n",
    "def PROPUESTA2_prom(N):\n",
    "    val_uni_estrat = list(set(estrato_copia))\n",
    "    val_uni_estrat_copia = val_uni_estrat[:]\n",
    "    estratos_orgz = sorted(val_uni_estrat_copia, reverse=False)\n",
    "    \n",
    "    ronda = 1\n",
    "    \n",
    "    becas_disponibles = True\n",
    "    lista_becados_2p = []\n",
    "    print(f\"\"\"PROPUESTA 2: Usando los criterios, la distribución de becas se realizó de la siguiente manera: \\n\"\"\")\n",
    "    while becas_disponibles == True:\n",
    "        print(\"----------------------------------------\\n\")\n",
    "        print(f'RONDA {ronda}\\n')\n",
    "        for c_estrato in estratos_orgz:\n",
    "            indxs_miembro_2p = [indx_gen for indx_gen in range(len(estrato_copia)) if estrato_copia[indx_gen]==c_estrato and indx_gen not in lista_becados_2p]\n",
    "            promedios_miembros_2p = [promedio_copia[indx_miem_2p] for indx_miem_2p in indxs_miembro_2p]\n",
    "            \n",
    "            idx_miem_todos_orgz_x_prom_2p = organizar_indices_lista_desde_otra_lista_reslistaindxord(indxs_miembro_2p, promedios_miembros_2p)\n",
    "            becados_en_ronda = max([1, round(0.02*(len(promedios_miembros_2p)))])\n",
    "            seleccionados_2p = idx_miem_todos_orgz_x_prom_2p[:becados_en_ronda]\n",
    "            if len(lista_becados_2p) >= N:\n",
    "                becas_disponibles = False\n",
    "            else:\n",
    "                becas_disponibles = True\n",
    "                becas_adicionadas = 0\n",
    "                seleccionados_estr = []\n",
    "                for seleccionado in seleccionados_2p:\n",
    "                    if len(lista_becados_2p) <= N-1:\n",
    "                        lista_becados_2p.append(seleccionado)\n",
    "                        seleccionados_estr.append(seleccionado)\n",
    "                        becas_adicionadas += 1\n",
    "                print(f'Estrato: {c_estrato} ---> No.Becas: {becas_adicionadas}')\n",
    "                print(f'Indices de seleccionados: {seleccionados_estr}\\n')\n",
    "        ronda += 1\n",
    "    \n",
    "    return lista_becados_2p             \n",
    "\n",
    "# Para el ejemplo se toman 100 becas a asignar\n",
    "N = 100\n",
    "lista_becados_2p = (PROPUESTA2_prom(N))\n",
    "print(f'Becas: {N}')\n",
    "print(f'Lista de todos los seleccionados: {lista_becados_2p}')"
   ]
  },
  {
   "cell_type": "markdown",
   "metadata": {},
   "source": [
    "### Comparación de las propuestas"
   ]
  },
  {
   "cell_type": "code",
   "execution_count": 15,
   "metadata": {},
   "outputs": [
    {
     "name": "stdout",
     "output_type": "stream",
     "text": [
      "\n",
      "                                PROPUESTA 1\n",
      "PROPUESTA 1: De acuerdo a los criterios se definió que de 20 grupos, se becaron a 16 grupos. \n",
      "             A continuación se muestra la distribución de becas por grupos: \n",
      "\n",
      "Grupo: ('Region_4', 'femenino') ---> No.Becas: 21\n",
      "[243, 60, 308, 70, 256, 453, 108, 213, 145, 433, 17, 36, 53, 193, 377, 51, 30, 123, 367, 466, 120]\n",
      "----------------------------------------\n",
      "\n",
      "Grupo: ('Region_4', 'masculino') ---> No.Becas: 14\n",
      "[491, 159, 454, 319, 434, 169, 202, 291, 489, 341, 254, 357, 482, 85]\n",
      "----------------------------------------\n",
      "\n",
      "Grupo: ('Region_1', 'masculino') ---> No.Becas: 14\n",
      "[162, 394, 9, 452, 222, 398, 428, 281, 33, 374, 149, 175, 458, 163]\n",
      "----------------------------------------\n",
      "\n",
      "Grupo: ('Region_2', 'femenino') ---> No.Becas: 12\n",
      "[363, 109, 355, 287, 262, 250, 337, 69, 107, 294, 368, 386]\n",
      "----------------------------------------\n",
      "\n",
      "Grupo: ('Region_1', 'femenino') ---> No.Becas: 12\n",
      "[7, 207, 137, 409, 134, 45, 74, 356, 92, 115, 321, 366]\n",
      "----------------------------------------\n",
      "\n",
      "Grupo: ('Region_2', 'masculino') ---> No.Becas: 9\n",
      "[376, 471, 385, 161, 79, 253, 289, 188, 240]\n",
      "----------------------------------------\n",
      "\n",
      "Grupo: ('Region_3', 'femenino') ---> No.Becas: 3\n",
      "[113, 99, 228]\n",
      "----------------------------------------\n",
      "\n",
      "Grupo: ('Region_3', 'masculino') ---> No.Becas: 3\n",
      "[422, 138, 194]\n",
      "----------------------------------------\n",
      "\n",
      "Grupo: ('Region_4', 'no binario') ---> No.Becas: 3\n",
      "[22, 96, 104]\n",
      "----------------------------------------\n",
      "\n",
      "Grupo: ('Region_1', 'no binario') ---> No.Becas: 2\n",
      "[259, 283]\n",
      "----------------------------------------\n",
      "\n",
      "Grupo: ('Region_2', 'no binario') ---> No.Becas: 2\n",
      "[361, 179]\n",
      "----------------------------------------\n",
      "\n",
      "Grupo: ('Region_5', 'masculino') ---> No.Becas: 1\n",
      "[49]\n",
      "----------------------------------------\n",
      "\n",
      "Grupo: ('Region_5', 'femenino') ---> No.Becas: 1\n",
      "[478]\n",
      "----------------------------------------\n",
      "\n",
      "Grupo: ('Region_4', 'otro') ---> No.Becas: 1\n",
      "[136]\n",
      "----------------------------------------\n",
      "\n",
      "Grupo: ('Region_5', 'no binario') ---> No.Becas: 1\n",
      "[375]\n",
      "----------------------------------------\n",
      "\n",
      "Grupo: ('Region_5', 'otro') ---> No.Becas: 1\n",
      "[195]\n",
      "----------------------------------------\n",
      "\n",
      "\n",
      "                       EDAD                \n"
     ]
    },
    {
     "data": {
      "image/png": "[encoded data removed]",
      "text/plain": [
       "<Figure size 360x417.6 with 1 Axes>"
      ]
     },
     "metadata": {
      "needs_background": "light"
     },
     "output_type": "display_data"
    },
    {
     "name": "stdout",
     "output_type": "stream",
     "text": [
      "\n",
      "                  ESCOLARIDAD            \n"
     ]
    },
    {
     "data": {
      "image/png": "[encoded data removed]",
      "text/plain": [
       "<Figure size 360x417.6 with 1 Axes>"
      ]
     },
     "metadata": {
      "needs_background": "light"
     },
     "output_type": "display_data"
    },
    {
     "name": "stdout",
     "output_type": "stream",
     "text": [
      "\n",
      "                   ESTRATO      \n"
     ]
    },
    {
     "data": {
      "image/png": "[encoded data removed]",
      "text/plain": [
       "<Figure size 360x417.6 with 1 Axes>"
      ]
     },
     "metadata": {
      "needs_background": "light"
     },
     "output_type": "display_data"
    },
    {
     "name": "stdout",
     "output_type": "stream",
     "text": [
      "\n",
      "                 GÉNERO\n"
     ]
    },
    {
     "data": {
      "image/png": "[encoded data removed]",
      "text/plain": [
       "<Figure size 360x417.6 with 1 Axes>"
      ]
     },
     "metadata": {},
     "output_type": "display_data"
    },
    {
     "name": "stdout",
     "output_type": "stream",
     "text": [
      "\n",
      "                  PROMEDIO\n"
     ]
    },
    {
     "data": {
      "image/png": "[encoded data removed]",
      "text/plain": [
       "<Figure size 360x417.6 with 1 Axes>"
      ]
     },
     "metadata": {
      "needs_background": "light"
     },
     "output_type": "display_data"
    },
    {
     "name": "stdout",
     "output_type": "stream",
     "text": [
      "\n",
      "               REGIÓN\n"
     ]
    },
    {
     "data": {
      "image/png": "[encoded data removed]",
      "text/plain": [
       "<Figure size 360x417.6 with 1 Axes>"
      ]
     },
     "metadata": {},
     "output_type": "display_data"
    },
    {
     "name": "stdout",
     "output_type": "stream",
     "text": [
      "\n",
      "Lista de todos los seleccionados: [243, 60, 308, 70, 256, 453, 108, 213, 145, 433, 17, 36, 53, 193, 377, 51, 30, 123, 367, 466, 120, 491, 159, 454, 319, 434, 169, 202, 291, 489, 341, 254, 357, 482, 85, 162, 394, 9, 452, 222, 398, 428, 281, 33, 374, 149, 175, 458, 163, 363, 109, 355, 287, 262, 250, 337, 69, 107, 294, 368, 386, 7, 207, 137, 409, 134, 45, 74, 356, 92, 115, 321, 366, 376, 471, 385, 161, 79, 253, 289, 188, 240, 113, 99, 228, 422, 138, 194, 22, 96, 104, 259, 283, 361, 179, 49, 478, 136, 375, 195]\n",
      "\n",
      "                                PROPUESTA 2\n",
      "PROPUESTA 2: Usando los criterios, la distribución de becas se realizó de la siguiente manera: \n",
      "\n",
      "----------------------------------------\n",
      "\n",
      "RONDA 1\n",
      "\n",
      "Estrato: 1 ---> No.Becas: 2\n",
      "Indices de seleccionados: [376, 162]\n",
      "\n",
      "Estrato: 2 ---> No.Becas: 4\n",
      "Indices de seleccionados: [243, 7, 207, 491]\n",
      "\n",
      "Estrato: 3 ---> No.Becas: 3\n",
      "Indices de seleccionados: [60, 471, 109]\n",
      "\n",
      "Estrato: 4 ---> No.Becas: 1\n",
      "Indices de seleccionados: [394]\n",
      "\n",
      "Estrato: 5 ---> No.Becas: 1\n",
      "Indices de seleccionados: [259]\n",
      "\n",
      "----------------------------------------\n",
      "\n",
      "RONDA 2\n",
      "\n",
      "Estrato: 1 ---> No.Becas: 2\n",
      "Indices de seleccionados: [363, 283]\n",
      "\n",
      "Estrato: 2 ---> No.Becas: 4\n",
      "Indices de seleccionados: [137, 478, 409, 452]\n",
      "\n",
      "Estrato: 3 ---> No.Becas: 3\n",
      "Indices de seleccionados: [159, 9, 49]\n",
      "\n",
      "Estrato: 4 ---> No.Becas: 1\n",
      "Indices de seleccionados: [53]\n",
      "\n",
      "Estrato: 5 ---> No.Becas: 1\n",
      "Indices de seleccionados: [99]\n",
      "\n",
      "----------------------------------------\n",
      "\n",
      "RONDA 3\n",
      "\n",
      "Estrato: 1 ---> No.Becas: 2\n",
      "Indices de seleccionados: [385, 287]\n",
      "\n",
      "Estrato: 2 ---> No.Becas: 4\n",
      "Indices de seleccionados: [222, 308, 355, 22]\n",
      "\n",
      "Estrato: 3 ---> No.Becas: 3\n",
      "Indices de seleccionados: [161, 134, 256]\n",
      "\n",
      "Estrato: 4 ---> No.Becas: 1\n",
      "Indices de seleccionados: [378]\n",
      "\n",
      "Estrato: 5 ---> No.Becas: 1\n",
      "Indices de seleccionados: [38]\n",
      "\n",
      "----------------------------------------\n",
      "\n",
      "RONDA 4\n",
      "\n",
      "Estrato: 1 ---> No.Becas: 2\n",
      "Indices de seleccionados: [398, 422]\n",
      "\n",
      "Estrato: 2 ---> No.Becas: 3\n",
      "Indices de seleccionados: [70, 262, 96]\n",
      "\n",
      "Estrato: 3 ---> No.Becas: 3\n",
      "Indices de seleccionados: [428, 453, 45]\n",
      "\n",
      "Estrato: 4 ---> No.Becas: 1\n",
      "Indices de seleccionados: [168]\n",
      "\n",
      "Estrato: 5 ---> No.Becas: 1\n",
      "Indices de seleccionados: [242]\n",
      "\n",
      "----------------------------------------\n",
      "\n",
      "RONDA 5\n",
      "\n",
      "Estrato: 1 ---> No.Becas: 2\n",
      "Indices de seleccionados: [108, 213]\n",
      "\n",
      "Estrato: 2 ---> No.Becas: 3\n",
      "Indices de seleccionados: [337, 17, 33]\n",
      "\n",
      "Estrato: 3 ---> No.Becas: 3\n",
      "Indices de seleccionados: [454, 74, 79]\n",
      "\n",
      "Estrato: 4 ---> No.Becas: 1\n",
      "Indices de seleccionados: [384]\n",
      "\n",
      "Estrato: 5 ---> No.Becas: 1\n",
      "Indices de seleccionados: [351]\n",
      "\n",
      "----------------------------------------\n",
      "\n",
      "RONDA 6\n",
      "\n",
      "Estrato: 1 ---> No.Becas: 2\n",
      "Indices de seleccionados: [250, 253]\n",
      "\n",
      "Estrato: 2 ---> No.Becas: 3\n",
      "Indices de seleccionados: [36, 69, 113]\n",
      "\n",
      "Estrato: 3 ---> No.Becas: 3\n",
      "Indices de seleccionados: [138, 145, 319]\n",
      "\n",
      "Estrato: 4 ---> No.Becas: 1\n",
      "Indices de seleccionados: [195]\n",
      "\n",
      "Estrato: 5 ---> No.Becas: 1\n",
      "Indices de seleccionados: [0]\n",
      "\n",
      "----------------------------------------\n",
      "\n",
      "RONDA 7\n",
      "\n",
      "Estrato: 1 ---> No.Becas: 2\n",
      "Indices de seleccionados: [281, 289]\n",
      "\n",
      "Estrato: 2 ---> No.Becas: 3\n",
      "Indices de seleccionados: [356, 51, 115]\n",
      "\n",
      "Estrato: 3 ---> No.Becas: 3\n",
      "Indices de seleccionados: [433, 188, 374]\n",
      "\n",
      "Estrato: 4 ---> No.Becas: 1\n",
      "Indices de seleccionados: [392]\n",
      "\n",
      "Estrato: 5 ---> No.Becas: 1\n",
      "Indices de seleccionados: [196]\n",
      "\n",
      "----------------------------------------\n",
      "\n",
      "RONDA 8\n",
      "\n",
      "Estrato: 1 ---> No.Becas: 2\n",
      "Indices de seleccionados: [361, 434]\n",
      "\n",
      "Estrato: 2 ---> No.Becas: 3\n",
      "Indices de seleccionados: [169, 194, 240]\n",
      "\n",
      "Estrato: 3 ---> No.Becas: 3\n",
      "Indices de seleccionados: [149, 202, 291]\n",
      "\n",
      "Estrato: 4 ---> No.Becas: 1\n",
      "Indices de seleccionados: [181]\n",
      "\n",
      "Estrato: 5 ---> No.Becas: 1\n",
      "Indices de seleccionados: [296]\n",
      "\n",
      "----------------------------------------\n",
      "\n",
      "RONDA 9\n",
      "\n",
      "Estrato: 1 ---> No.Becas: 2\n",
      "Indices de seleccionados: [193, 377]\n",
      "\n",
      "Estrato: 2 ---> No.Becas: 3\n",
      "Indices de seleccionados: [366, 458, 123]\n",
      "\n",
      "Estrato: 3 ---> No.Becas: 3\n",
      "Indices de seleccionados: [294, 400, 472]\n",
      "\n",
      "Estrato: 4 ---> No.Becas: 1\n",
      "Indices de seleccionados: [153]\n",
      "\n",
      "Estrato: 5 ---> No.Becas: 1\n",
      "Indices de seleccionados: [360]\n",
      "\n",
      "----------------------------------------\n",
      "\n",
      "RONDA 10\n",
      "\n",
      "Estrato: 1 ---> No.Becas: 2\n",
      "Indices de seleccionados: [92, 175]\n",
      "\n",
      "Estrato: 2 ---> No.Becas: 3\n",
      "Indices de seleccionados: [330, 367, 110]\n",
      "\n",
      "Estrato: 3 ---> No.Becas: 2\n",
      "Indices de seleccionados: [120, 179]\n",
      "\n",
      "\n",
      "Lista de todos los seleccionados: [376, 162, 243, 7, 207, 491, 60, 471, 109, 394, 259, 363, 283, 137, 478, 409, 452, 159, 9, 49, 53, 99, 385, 287, 222, 308, 355, 22, 161, 134, 256, 378, 38, 398, 422, 70, 262, 96, 428, 453, 45, 168, 242, 108, 213, 337, 17, 33, 454, 74, 79, 384, 351, 250, 253, 36, 69, 113, 138, 145, 319, 195, 0, 281, 289, 356, 51, 115, 433, 188, 374, 392, 196, 361, 434, 169, 194, 240, 149, 202, 291, 181, 296, 193, 377, 366, 458, 123, 294, 400, 472, 153, 360, 92, 175, 330, 367, 110, 120, 179]\n",
      "\n",
      "                       EDAD                \n"
     ]
    },
    {
     "data": {
      "image/png": "[encoded data removed]",
      "text/plain": [
       "<Figure size 360x417.6 with 1 Axes>"
      ]
     },
     "metadata": {
      "needs_background": "light"
     },
     "output_type": "display_data"
    },
    {
     "name": "stdout",
     "output_type": "stream",
     "text": [
      "\n",
      "                  ESCOLARIDAD            \n"
     ]
    },
    {
     "data": {
      "image/png": "[encoded data removed]",
      "text/plain": [
       "<Figure size 360x417.6 with 1 Axes>"
      ]
     },
     "metadata": {
      "needs_background": "light"
     },
     "output_type": "display_data"
    },
    {
     "name": "stdout",
     "output_type": "stream",
     "text": [
      "\n",
      "                   ESTRATO      \n"
     ]
    },
    {
     "data": {
      "image/png": "[encoded data removed]",
      "text/plain": [
       "<Figure size 360x417.6 with 1 Axes>"
      ]
     },
     "metadata": {
      "needs_background": "light"
     },
     "output_type": "display_data"
    },
    {
     "name": "stdout",
     "output_type": "stream",
     "text": [
      "\n",
      "                 GÉNERO\n"
     ]
    },
    {
     "data": {
      "image/png": "[encoded data removed]",
      "text/plain": [
       "<Figure size 360x417.6 with 1 Axes>"
      ]
     },
     "metadata": {},
     "output_type": "display_data"
    },
    {
     "name": "stdout",
     "output_type": "stream",
     "text": [
      "\n",
      "                  PROMEDIO\n"
     ]
    },
    {
     "data": {
      "image/png": "[encoded data removed]",
      "text/plain": [
       "<Figure size 360x417.6 with 1 Axes>"
      ]
     },
     "metadata": {
      "needs_background": "light"
     },
     "output_type": "display_data"
    },
    {
     "name": "stdout",
     "output_type": "stream",
     "text": [
      "\n",
      "               REGIÓN\n"
     ]
    },
    {
     "data": {
      "image/png": "[encoded data removed]",
      "text/plain": [
       "<Figure size 360x417.6 with 1 Axes>"
      ]
     },
     "metadata": {},
     "output_type": "display_data"
    }
   ],
   "source": [
    "# Implementa tu respuesta en esta celda  \n",
    "def graficas_becados(lista_becados):\n",
    "    edad_becados = [diccionario_datos[\"edad\"][idx_bec] for idx_bec in lista_becados]\n",
    "    escolaridad_becados = [diccionario_datos[\"escolaridad\"][idx_bec] for idx_bec in lista_becados]\n",
    "    estado_cvl_becados = [diccionario_datos[\"estado_civil\"][idx_bec] for idx_bec in lista_becados]\n",
    "    estrato_becados = [diccionario_datos[\"estrato\"][idx_bec] for idx_bec in lista_becados]\n",
    "    genero_becados = [diccionario_datos[\"genero\"][idx_bec] for idx_bec in lista_becados]\n",
    "    promedio_becados = [diccionario_datos[\"promedio\"][idx_bec] for idx_bec in lista_becados]\n",
    "    region_becados = [diccionario_datos[\"region\"][idx_bec] for idx_bec in lista_becados]\n",
    "\n",
    "    \n",
    "    print(\"\\n                       EDAD                \")\n",
    "    media_edad_bec = calculo_media(edad_becados)\n",
    "    varianza_dsv_std_edad_bec = calculo_varianza_desv_std(edad_becados, media_edad_bec)\n",
    "    #print(f'Media: {media_edad_bec}')\n",
    "    #print(f'Varianza: {varianza_dsv_std_edad_bec[0]}\\nDesviación Estandar: {varianza_dsv_std_edad_bec[1]}')\n",
    "    histograma_cuantitativo(edad_becados,7)\n",
    "\n",
    "    print(\"\\n                  ESCOLARIDAD            \")\n",
    "    histograma_cualitativo(escolaridad_becados)\n",
    "    \n",
    "    # Considero que no es una principal característica \n",
    "    #print(\"\\n                 ESTADO CIVIL          \")\n",
    "    #figura_cual_estado_cvl_bec = histograma_cualitativo(estado_cvl_becados)\n",
    "\n",
    "    print(\"\\n                   ESTRATO      \")\n",
    "    media_estrato_bec = calculo_media(estrato_becados)\n",
    "    varianza_dsv_std_estrato_bec = calculo_varianza_desv_std(estrato_becados, media_estrato_bec)\n",
    "    #print(f'Media: {media_estrato_bec}')\n",
    "    #print(f'Varianza: {varianza_dsv_std_estrato_bec[0]} \\nDesviación Estandar: {varianza_dsv_std_estrato_bec[1]}')\n",
    "    fig_estrato_bec = histograma_cuantitativo(estrato_becados,5)\n",
    "\n",
    "    print(\"\\n                 GÉNERO\")\n",
    "    figura_pastel = pastel(genero_becados)\n",
    "\n",
    "    print(\"\\n                  PROMEDIO\")\n",
    "    media_promedio_bec = calculo_media(promedio_becados)\n",
    "    varianza_dsv_std_promedio_bec = calculo_varianza_desv_std(promedio_becados, media_promedio_bec)\n",
    "    #print(f'Media: {media_promedio_bec}')\n",
    "    #print(f'Varianza: {varianza_dsv_std_promedio_bec[0]} \\nDesviación Estandar: {varianza_dsv_std_promedio_bec[1]}')\n",
    "    figura = histograma_cuantitativo(promedio,10)\n",
    "\n",
    "    print(\"\\n               REGIÓN\")\n",
    "    pastel(region_becados)\n",
    "    return\n",
    "\n",
    "def comparacion(N):\n",
    "    print('\\n                                PROPUESTA 1')\n",
    "    becados1p = PROPUESTA1_reg_gen(N)\n",
    "    graficas_becados(becados1p)\n",
    "    print(f'\\nLista de todos los seleccionados: {becados1p}')\n",
    "    \n",
    "    print('\\n                                PROPUESTA 2')\n",
    "    becados2p = PROPUESTA2_prom(N)\n",
    "    print(f'\\nLista de todos los seleccionados: {becados2p}')\n",
    "    graficas_becados(becados2p)\n",
    "    \n",
    "N = 100\n",
    "comparacion(N)"
   ]
  },
  {
   "cell_type": "markdown",
   "metadata": {},
   "source": [
    "## Fase 3: Desarrollo de una solución analítica"
   ]
  },
  {
   "cell_type": "markdown",
   "metadata": {},
   "source": [
    "Reconociendo la complejidad de este problema y viendo el potencial del análisis de datos para enriquecer la discusión, el comité requiere una herramienta analítica que permita definir y evaluar nuevas propuestas de asignación de becas. Se debe poder:\n",
    "\n",
    "1. Ingresar el número de becas disponibles (ej., `N=0`).\n",
    "\n",
    "\n",
    "2. Ingresar un rango de edad para los candidatos factibles (ej., `min_edad=99, max_edad=100`).\n",
    "\n",
    "\n",
    "3. Elegir cualesquiera de las siguientes tres características: género, estrato, región (ej., `caracteristicas=[\"genero\", \"estrato\"]`).\n",
    "\n",
    "    \n",
    "4. Ingresar interactivamente (durante la ejecución de la herramienta) el porcentaje del total de las becas que se asignará a las personas con mejor promedio académico dentro de cada una de las combinaciones de las características elegidas. Por ejemplo, si se eligen las características `\"genero\"` y `\"estrato\"`, deberá asignarse un porcentaje a cada combinación (ej., asignar 3\\% de las becas al género `\"masculino\"` del estrato `1`, asignar 5\\% de las becas al género `\"femenino\"` del estrato `1`, etc.)."
   ]
  },
  {
   "cell_type": "markdown",
   "metadata": {},
   "source": [
    "La herramienta debe permitir al comité configurar una nueva propuesta y seleccionar al grupo de potenciales beneficiarios de las becas de acuerdo con la propuesta configurada. Además, la herramienta debe exponer métricas y visualizaciones de las principales características demográficas de los potenciales beneficiarios de las becas."
   ]
  },
  {
   "cell_type": "markdown",
   "metadata": {},
   "source": [
    "### Nueva propuesta: Selección de los principales beneficiarios según el número N de becas disponibles"
   ]
  },
  {
   "cell_type": "code",
   "execution_count": 16,
   "metadata": {},
   "outputs": [
    {
     "name": "stdout",
     "output_type": "stream",
     "text": [
      "                       HERRAMIENTA INTERACTIVA PARA DISTRIBUCIÓN DE BECAS\n",
      "Ingrese el número de becas que desee asignar:20\n",
      "Ingrese el límite mínimo de edad. Este debe ser un número entero:18\n",
      "Ingrese el límite máximo de edad. Este debe ser un número entero:45\n",
      "\n",
      "A continuación deberá ingresar las características que desea incluir, las cuales pueden ser: genero, estrato y/o region. Estas deben estar escritas en minusculas y sin tildes. En caso de que no desee incluir más características, debera escribir NO.\n",
      "Ingrese la característica o \"NO\" si ya las ingresó previamente:genero\n",
      "Ingrese la característica o \"NO\" si ya las ingresó previamente:NO\n",
      "Ingrese la característica o \"NO\" si ya las ingresó previamente:NO\n",
      "['genero']\n",
      "\n",
      "\n"
     ]
    }
   ],
   "source": [
    "# Implementa tu respuesta en esta celda\n",
    "def ingresar_valor(solicitud):\n",
    "    while True:\n",
    "        try:\n",
    "            valor = float(input(solicitud))\n",
    "            if valor >= 0:\n",
    "                return valor\n",
    "            else:\n",
    "                print(\"Por favor, ingrese un número positivo.\")\n",
    "        except ValueError:\n",
    "            print(\"Por favor, ingrese un valor numérico válido.\")\n",
    "\n",
    "def HERRAMIENTA_ANALITICA(N, min_edad, max_edad, caracteristicas):\n",
    "\n",
    "    indx_candi_fac_edad = [indx for indx in range(0, len(promedio_copia)) if edad_copia[indx] >= min_edad and edad_copia[indx] <= max_edad]\n",
    "    \n",
    "    # Obtengo los valores unicos\n",
    "    val_uni_reg = list(set(region_copia))\n",
    "    regiones = sorted(val_uni_reg)\n",
    "    val_uni_gnro = list(set(genero_copia))\n",
    "    generos = sorted(val_uni_gnro)\n",
    "    val_uni_estrato = list(set(estrato_copia))\n",
    "    estrs = sorted(val_uni_estrato)\n",
    "    if N == 0:\n",
    "        print('Definió que el número de becas es 0, por lo tanto, no se asignó ninguna beca.')\n",
    "    elif N == (len(indx_candi_fac_edad)):\n",
    "        becados_facti = indx_candi_fac_edad\n",
    "        print('El número de candidatos factibles es exactamente igual que el número de becas disponibles, por lo tanto se les asignó estas becas a dichas personas.')\n",
    "        return becados_facti\n",
    "    elif N > (len(indx_candi_fac_edad)):\n",
    "        print(f\"\"\"Se asignaron {(len(indx_candi_fac_edad))} becas, pero no se asignaron las becas restantes, ya que el número de candidatos en ese rango de edades es menor que el número de becas a asignar. \\nLos indices de los becados son: \\n\"\"\")\n",
    "        becados_facti = indx_candi_fac_edad\n",
    "        return becados_facti\n",
    "    elif N > 0:\n",
    "    \n",
    "        opcion_selec = 7\n",
    "        \n",
    "        # OPCION 0: TODAS LAS CARACTERÍSTICAS\n",
    "        if all(caract in caracteristicas for caract in [\"genero\", \"region\", \"estrato\"]):\n",
    "            opcion_selec = 0\n",
    "            # Encuentro todas las combinaciones posibles (grupos) y hago las tuplas de region, genero y estrato para candidatos factibles\n",
    "            grupos_all = [(reg,gen,estr) for reg in regiones for gen in generos for estr in estrs]\n",
    "            tuplas_carac_fac_indx_all = [(region_copia[indx_fac], genero_copia[indx_fac], estrato_copia[indx_fac]) for indx_fac in indx_candi_fac_edad]\n",
    "            # Encuentro cuantas personas hay en cada grupo\n",
    "        \n",
    "        # OPCIÓN 1: GÉNERO Y ESTRATO    \n",
    "        elif all(caract in caracteristicas for caract in [\"genero\", \"estrato\"]):\n",
    "            opcion_selec = 1\n",
    "            grupos_all = [(gen,estr) for gen in generos for estr in estrs]\n",
    "            tuplas_carac_fac_indx_all = [(genero_copia[indx_fac], estrato_copia[indx_fac]) for indx_fac in indx_candi_fac_edad]\n",
    "        \n",
    "        # OPCIÓN 2: REGIÓN Y GÉNERO\n",
    "        elif all(caract in caracteristicas for caract in [\"region\", \"genero\"]):\n",
    "            opcion_selec = 2\n",
    "            grupos_all = [(reg,gen) for reg in regiones for gen in generos]\n",
    "            tuplas_carac_fac_indx_all = [(region_copia[indx_fac], genero_copia[indx_fac]) for indx_fac in indx_candi_fac_edad]\n",
    "        \n",
    "        # OPCIÓN 3: REGIÓN Y ESTRATO\n",
    "        elif all(caract in caracteristicas for caract in [\"region\", \"estrato\"]):\n",
    "            opcion_selec = 3\n",
    "            grupos_all = [(reg,estr) for reg in regiones for estr in estrs]\n",
    "            tuplas_carac_fac_indx_all = [(region_copia[indx_fac], estrato_copia[indx_fac]) for indx_fac in indx_candi_fac_edad]\n",
    "        \n",
    "        # OPCIÓN 4: REGIÓN\n",
    "        elif all(caract in caracteristicas for caract in [\"region\"]):\n",
    "            opcion_selec = 4\n",
    "            grupos_all = [(reg) for reg in regiones]\n",
    "            tuplas_carac_fac_indx_all = [region_copia[indx_fac] for indx_fac in indx_candi_fac_edad]\n",
    "        \n",
    "        # OPCIÓN 5: GÉNERO\n",
    "        elif all(caract in caracteristicas for caract in [\"genero\"]):\n",
    "            opcion_selec = 5\n",
    "            grupos_all = [(gen) for gen in generos]\n",
    "            tuplas_carac_fac_indx_all = [(genero_copia[indx_fac]) for indx_fac in indx_candi_fac_edad]\n",
    "        \n",
    "        # OPCIÓN 6: ESTRATO\n",
    "        elif all(caract in caracteristicas for caract in [\"estrato\"]):\n",
    "            opcion_selec = 6\n",
    "            grupos_all = [(estr) for estr in estrs]\n",
    "            tuplas_carac_fac_indx_all = [(estrato_copia[indx_fac]) for indx_fac in indx_candi_fac_edad]\n",
    "        \n",
    "        frec_tuplas_factibles = [tuplas_carac_fac_indx_all.count(grup) for grup in grupos_all]    \n",
    "        \n",
    "        # Recorro las frecuencias para determinar que tuplas están llenas y obtener su posición, para despues buscarlo en tuplas_carac_fac_indx_all\n",
    "        frec_tuplas_llenas = []\n",
    "        indx_frec_tupla_fac = []\n",
    "           \n",
    "        contador = 0\n",
    "        for frec in frec_tuplas_factibles:\n",
    "            if frec > 0:\n",
    "                indx_frec_tupla_fac.append(contador)\n",
    "                frec_tuplas_llenas.append(frec)\n",
    "            contador += 1\n",
    "        \n",
    "        tuplas_llenas = [grupos_all[indx_tupla] for indx_tupla in indx_frec_tupla_fac]\n",
    "        \n",
    "        # INGRESO DE PORCENTAJES POR GRUPO POR PARTE DEL USUARIO\n",
    "        print(\"\"\"A continuación debera ingresar el porcentaje de becas que desea asignarle a cada grupo. \\n \\nATENCIÓN: Debe tener en cuenta que el sistema lo deja ingresar todos los porcentajes para cada grupo, mientras estos sean números mayores o iguales a cero. \\n \\nEste despues ira asignado las becas en el orden en que ingresó los porcentajes, pero si encuentra un porcentaje equivalente a superar las becas disponibles, asignara a ese grupo las becas que falten por asignar (si hay personas en el grupo que reciban estas becas), o si el número de becas asignado es mayor que en número de cupos, se asignará el máximo de cupos. \\n \\nPor lo tanto, los grupos que se encuentren al final del ingreso de porcentajes, tienen mayor probabilidad de no asignarles becas. \n",
    "        \"\"\")\n",
    "        \n",
    "        nume_becas_x_tupla_sver = []\n",
    "        while True:\n",
    "            try:\n",
    "                continuar = True\n",
    "                for tupla_llen in tuplas_llenas:\n",
    "                    while True:\n",
    "                        try:\n",
    "                            porcentaje_tupla = float(input(\"Ingrese el porcentaje que desee asignarle al grupo \" + str(tupla_llen) + \":\"))\n",
    "                            if porcentaje_tupla < 0:\n",
    "                                print(\"Por favor, ingrese un número mayor o igual a cero.\")\n",
    "                                continuar = False\n",
    "                            else:\n",
    "                                continuar = True\n",
    "                                # se redondea hacia abajo para no asignar más becas que las que se tienen\n",
    "                                num_becas = math.floor((porcentaje_tupla*N)/100)\n",
    "                                nume_becas_x_tupla_sver.append(num_becas)\n",
    "                            break\n",
    "                        except ValueError:\n",
    "                            print(\"Por favor, ingresa un valor numérico válido.\")\n",
    "                    \n",
    "                    if not continuar:\n",
    "                        break\n",
    "                if continuar:\n",
    "                    break\n",
    "            except ValueError:\n",
    "                print(\"Por favor, ingresa un valor numérico válido.\")\n",
    "        \n",
    "\n",
    "        # ----- ASIGNACIÓN DE BECAS --------\n",
    "        # - Asignación cuando la suma de porcentajes es igual o mayor a 100 (o equivalentes a asignar todas las becas, de acuerdo a los porcentajes proporcionados por el usuario\n",
    "        frec_tuplas_sin_asign = []\n",
    "        nume_becas_x_tupla_ok = []\n",
    "        becas_dispon = N\n",
    "        indx_k_tupla = 0\n",
    "        for tupla_llen in tuplas_llenas:\n",
    "            # Hay becas disponibles para el número de becas asignadas por el usuario\n",
    "            if (len(nume_becas_x_tupla_ok) < N) and (nume_becas_x_tupla_sver[indx_k_tupla] <= becas_dispon) and (becas_dispon > 0):\n",
    "                # Si el grupo tiene más o igual personas que las becas asignadas, le asigno el correspondiente de becas\n",
    "                if frec_tuplas_llenas[indx_k_tupla] >= nume_becas_x_tupla_sver[indx_k_tupla]:\n",
    "                    nume_becas_x_tupla_ok.append(nume_becas_x_tupla_sver[indx_k_tupla])\n",
    "                    becas_dispon -= nume_becas_x_tupla_sver[indx_k_tupla]\n",
    "                    cand_sin_asignar = frec_tuplas_llenas[indx_k_tupla] - nume_becas_x_tupla_sver[indx_k_tupla]\n",
    "                    frec_tuplas_sin_asign.append(cand_sin_asignar)\n",
    "                # Si el grupo tiene menos personas que las becas que quiero asignar, entonces se asigna a todos los miembros y la diferencia vuelve a estar disponible\n",
    "                elif frec_tuplas_llenas[indx_k_tupla] < nume_becas_x_tupla_sver[indx_k_tupla]:\n",
    "                    nume_becas_x_tupla_ok.append(frec_tuplas_llenas[indx_k_tupla])\n",
    "                    becas_dispon -= frec_tuplas_llenas[indx_k_tupla]\n",
    "                    frec_tuplas_sin_asign.append(0)\n",
    "            # El numero de becas asignadas por el usuario supera las becas disponibles. Se asignaran las disponibles\n",
    "            elif nume_becas_x_tupla_sver[indx_k_tupla] > becas_dispon and becas_dispon > 0:\n",
    "                # Si el grupo tiene más personas que las becas disponibles, se le asignan esas becas.\n",
    "                if frec_tuplas_llenas[indx_k_tupla] >= becas_dispon:\n",
    "                    nume_becas_x_tupla_ok.append(becas_dispon)\n",
    "                    becas_dispon = 0\n",
    "                    cand_sin_asignar = frec_tuplas_llenas[indx_k_tupla] - becas_dispon\n",
    "                    frec_tuplas_sin_asign.append(cand_sin_asignar)\n",
    "                # Si el grupo tiene menos personas que las becas disponibles, se les asigna a todos los miembros\n",
    "                elif frec_tuplas_llenas[indx_k_tupla] < becas_dispon:\n",
    "                    nume_becas_x_tupla_ok.append(frec_tuplas_llenas[indx_k_tupla])\n",
    "                    becas_dispon -= frec_tuplas_llenas[indx_k_tupla]  \n",
    "                    frec_tuplas_sin_asign.append(0)\n",
    "            else:\n",
    "                nume_becas_x_tupla_ok.append(0)\n",
    "            indx_k_tupla += 1\n",
    "        \n",
    "        becas_asig_x_usua = sum(nume_becas_x_tupla_ok) \n",
    "        \n",
    "        # - Si quedaron becas por asignar (suma de los porcentajes es menor a 100)\n",
    "        # A cada grupo se le dará 1 beca a medida que se vaya recorriendo la lista hasta que ya no hayan becas disponibles\n",
    "        pare = becas_dispon\n",
    "        inx_snasig = 0\n",
    "        salida = 0\n",
    "        becas_asig_sist = 0\n",
    "        while sum(nume_becas_x_tupla_ok) < N and salida <= pare:\n",
    "            for tupla_llen in tuplas_llenas:\n",
    "                if frec_tuplas_sin_asign[inx_snasig] > 0 and becas_dispon > 0:\n",
    "                    nume_becas_x_tupla_ok[inx_snasig] += 1\n",
    "                    frec_tuplas_sin_asign[inx_snasig] -= 1\n",
    "                    becas_dispon -= 1\n",
    "                    becas_asig_sist += 1\n",
    "                inx_snasig += 1\n",
    "                if inx_snasig == len(tuplas_llenas):\n",
    "                    inx_snasig = 0\n",
    "            salida += 1\n",
    "        \n",
    "        # INFORMACIÓN\n",
    "        if becas_asig_x_usua == N:\n",
    "            print(f'\\nSe asignaron las {N} becas según los porcentajes proporcionados')\n",
    "        elif (becas_asig_x_usua + becas_asig_sist) == N:\n",
    "            print(f'\\nSe asignaron {becas_asig_x_usua} becas; sin embargo, como la suma de los porcentajes proporcionados no es equivalente a las {N} becas planteadas, el sistema asignó {becas_asig_sist} becas más, para cumplir con las becas requeridas.')  \n",
    "        \n",
    "        # ASIGNACIÓN DE BECAS A MEJORES PROMEDIOS DE CADA GRUPO \n",
    "        def procesar_opcion(opcion_selec, tuplas_llenas, condiciones):\n",
    "            becados = []\n",
    "            ord_bec = 0\n",
    "            for tupla in tuplas_llenas:\n",
    "                # print(tupla)\n",
    "                idx_miem_all_tupl = [inx_facti for inx_facti in indx_candi_fac_edad if all(cond(tupla, inx_facti) for cond in [condiciones])]\n",
    "                prom_miemb = [promedio_copia[indx_miem] for indx_miem in idx_miem_all_tupl]\n",
    "                idx_miem_orgz_x_tup = organizar_indices_lista_desde_otra_lista_reslistaindxord(idx_miem_all_tupl, prom_miemb)\n",
    "                indx_selec = idx_miem_orgz_x_tup[:nume_becas_x_tupla_ok[ord_bec]]\n",
    "                if nume_becas_x_tupla_ok[ord_bec] > 0:\n",
    "                    print(f'Grupo {tupla} ----> No. Becas: {nume_becas_x_tupla_ok[ord_bec]}')\n",
    "                    for idx_selecc in indx_selec:\n",
    "                        becados.append(idx_selecc)\n",
    "                        print(idx_selecc)\n",
    "                    print(\"----------------------------------------\\n\")\n",
    "                ord_bec += 1\n",
    "            return becados\n",
    "        \n",
    "        print('La distribución de becas se muestra a continuación:\\n')\n",
    "        if opcion_selec == 0:\n",
    "            becadosall = procesar_opcion(opcion_selec, tuplas_llenas, lambda tupla, inx_facti: region_copia[inx_facti] == tupla[0] and genero_copia[inx_facti] == tupla[1] and estrato_copia[inx_facti] == tupla[2])\n",
    "        elif opcion_selec == 1:\n",
    "            becadosall = procesar_opcion(opcion_selec, tuplas_llenas, lambda tupla, inx_facti: genero_copia[inx_facti] == tupla[0] and estrato_copia[inx_facti] == tupla[1])\n",
    "        elif opcion_selec == 2:\n",
    "            becadosall = procesar_opcion(opcion_selec, tuplas_llenas, lambda tupla, inx_facti: region_copia[inx_facti] == tupla[0] and genero_copia[inx_facti]== tupla[1])\n",
    "        elif opcion_selec == 3:\n",
    "            becadosall = procesar_opcion(opcion_selec, tuplas_llenas, lambda tupla, inx_facti: region_copia[inx_facti] == tupla[0] and estrato_copia[inx_facti] == tupla[1])\n",
    "        elif opcion_selec == 4:\n",
    "            becadosall = procesar_opcion(opcion_selec, tuplas_llenas, lambda tupla, inx_facti: region_copia[inx_facti] == tupla)\n",
    "        elif opcion_selec == 5:\n",
    "            becadosall = procesar_opcion(opcion_selec, tuplas_llenas, lambda tupla, inx_facti: genero_copia[inx_facti] == tupla)\n",
    "        elif opcion_selec == 6:\n",
    "            becadosall = procesar_opcion(opcion_selec, tuplas_llenas, lambda tupla, inx_facti: estrato_copia[inx_facti] == tupla)\n",
    "        \n",
    "        return becadosall\n",
    "\n",
    "\n",
    "print('                       HERRAMIENTA INTERACTIVA PARA DISTRIBUCIÓN DE BECAS')\n",
    "N = ingresar_valor('Ingrese el número de becas que desee asignar:')\n",
    "min_edad = ingresar_valor('Ingrese el límite mínimo de edad. Este debe ser un número entero:')\n",
    "max_edad = ingresar_valor('Ingrese el límite máximo de edad. Este debe ser un número entero:')\n",
    "\n",
    "print('\\nA continuación deberá ingresar las características que desea incluir, las cuales pueden ser: genero, estrato y/o region. Estas deben estar escritas en minusculas y sin tildes. En caso de que no desee incluir más características, debera escribir NO.')\n",
    "\n",
    "caracteristicas = []\n",
    "for i in range(3):\n",
    "    caract = str(input('Ingrese la característica o \"NO\" si ya las ingresó previamente:'))\n",
    "    if caract != \"NO\":\n",
    "        caracteristicas.append(caract)\n",
    "print(caracteristicas)\n",
    "print('\\n')\n",
    "\n",
    "#BECADOS = HERRAMIENTA_ANALITICA(N, min_edad, max_edad, caracteristicas)\n",
    "\n"
   ]
  },
  {
   "cell_type": "markdown",
   "metadata": {},
   "source": [
    "### Características demográficas de beneficiarios según nueva propuesta"
   ]
  },
  {
   "cell_type": "code",
   "execution_count": 18,
   "metadata": {},
   "outputs": [
    {
     "name": "stdout",
     "output_type": "stream",
     "text": [
      "                       HERRAMIENTA INTERACTIVA PARA DISTRIBUCIÓN DE BECAS\n",
      "Ingrese el número de becas que desee asignar:10\n",
      "Ingrese el límite mínimo de edad. Este debe ser un número entero:34\n",
      "Ingrese el límite máximo de edad. Este debe ser un número entero:45\n",
      "\n",
      "A continuación deberá ingresar las características que desea incluir, las cuales pueden ser: genero, estrato y/o region. Estas deben estar escritas en minusculas y sin tildes. En caso de que no desee incluir más características, debera escribir NO.\n",
      "Ingrese la característica o \"NO\" si ya las ingresó previamente:genero\n",
      "Ingrese la característica o \"NO\" si ya las ingresó previamente:NO\n",
      "Ingrese la característica o \"NO\" si ya las ingresó previamente:NO\n",
      "A continuación debera ingresar el porcentaje de becas que desea asignarle a cada grupo. \n",
      " \n",
      "ATENCIÓN: Debe tener en cuenta que el sistema lo deja ingresar todos los porcentajes para cada grupo, mientras estos sean números mayores o iguales a cero. \n",
      " \n",
      "Este despues ira asignado las becas en el orden en que ingresó los porcentajes, pero si encuentra un porcentaje equivalente a superar las becas disponibles, asignara a ese grupo las becas que falten por asignar (si hay personas en el grupo que reciban estas becas), o si el número de becas asignado es mayor que en número de cupos, se asignará el máximo de cupos. \n",
      " \n",
      "Por lo tanto, los grupos que se encuentren al final del ingreso de porcentajes, tienen mayor probabilidad de no asignarles becas. \n",
      "        \n",
      "Ingrese el porcentaje que desee asignarle al grupo femenino:25\n",
      "Ingrese el porcentaje que desee asignarle al grupo masculino:25\n",
      "Ingrese el porcentaje que desee asignarle al grupo no binario:25\n",
      "Ingrese el porcentaje que desee asignarle al grupo otro:25\n",
      "\n",
      "Se asignaron 8 becas; sin embargo, como la suma de los porcentajes proporcionados no es equivalente a las 10.0 becas planteadas, el sistema asignó 2 becas más, para cumplir con las becas requeridas.\n",
      "La distribución de becas se muestra a continuación:\n",
      "\n",
      "Grupo femenino ----> No. Becas: 3\n",
      "262\n",
      "453\n",
      "145\n",
      "----------------------------------------\n",
      "\n",
      "Grupo masculino ----> No. Becas: 3\n",
      "222\n",
      "188\n",
      "482\n",
      "----------------------------------------\n",
      "\n",
      "Grupo no binario ----> No. Becas: 2\n",
      "179\n",
      "413\n",
      "----------------------------------------\n",
      "\n",
      "Grupo otro ----> No. Becas: 2\n",
      "373\n",
      "164\n",
      "----------------------------------------\n",
      "\n",
      "Lista de becados: [262, 453, 145, 222, 188, 482, 179, 413, 373, 164]\n",
      "\n",
      "                       EDAD                \n"
     ]
    },
    {
     "data": {
      "image/png": "[encoded data removed]",
      "text/plain": [
       "<Figure size 360x417.6 with 1 Axes>"
      ]
     },
     "metadata": {
      "needs_background": "light"
     },
     "output_type": "display_data"
    },
    {
     "name": "stdout",
     "output_type": "stream",
     "text": [
      "\n",
      "                  ESCOLARIDAD            \n"
     ]
    },
    {
     "data": {
      "image/png": "[encoded data removed]",
      "text/plain": [
       "<Figure size 360x417.6 with 1 Axes>"
      ]
     },
     "metadata": {
      "needs_background": "light"
     },
     "output_type": "display_data"
    },
    {
     "name": "stdout",
     "output_type": "stream",
     "text": [
      "\n",
      "                   ESTRATO      \n"
     ]
    },
    {
     "data": {
      "image/png": "[encoded data removed]",
      "text/plain": [
       "<Figure size 360x417.6 with 1 Axes>"
      ]
     },
     "metadata": {
      "needs_background": "light"
     },
     "output_type": "display_data"
    },
    {
     "name": "stdout",
     "output_type": "stream",
     "text": [
      "\n",
      "                 GÉNERO\n"
     ]
    },
    {
     "data": {
      "image/png": "[encoded data removed]",
      "text/plain": [
       "<Figure size 360x417.6 with 1 Axes>"
      ]
     },
     "metadata": {},
     "output_type": "display_data"
    },
    {
     "name": "stdout",
     "output_type": "stream",
     "text": [
      "\n",
      "                  PROMEDIO\n"
     ]
    },
    {
     "data": {
      "image/png": "[encoded data removed]",
      "text/plain": [
       "<Figure size 360x417.6 with 1 Axes>"
      ]
     },
     "metadata": {
      "needs_background": "light"
     },
     "output_type": "display_data"
    },
    {
     "name": "stdout",
     "output_type": "stream",
     "text": [
      "\n",
      "               REGIÓN\n"
     ]
    },
    {
     "data": {
      "image/png": "[encoded data removed]",
      "text/plain": [
       "<Figure size 360x417.6 with 1 Axes>"
      ]
     },
     "metadata": {},
     "output_type": "display_data"
    },
    {
     "name": "stdout",
     "output_type": "stream",
     "text": [
      "None\n"
     ]
    }
   ],
   "source": [
    "# Implementa tu respuesta en esta celda\n",
    "def herramienta_propuesta_graficas():\n",
    "    print('                       HERRAMIENTA INTERACTIVA PARA DISTRIBUCIÓN DE BECAS')\n",
    "    N = ingresar_valor('Ingrese el número de becas que desee asignar:')\n",
    "    min_edad = ingresar_valor('Ingrese el límite mínimo de edad. Este debe ser un número entero:')\n",
    "    max_edad = ingresar_valor('Ingrese el límite máximo de edad. Este debe ser un número entero:')\n",
    "\n",
    "    print('\\nA continuación deberá ingresar las características que desea incluir, las cuales pueden ser: genero, estrato y/o region. Estas deben estar escritas en minusculas y sin tildes. En caso de que no desee incluir más características, debera escribir NO.')\n",
    "\n",
    "    caracteristicas = []\n",
    "    for i in range(3):\n",
    "        caract = str(input('Ingrese la característica o \"NO\" si ya las ingresó previamente:'))\n",
    "        if caract != \"NO\":\n",
    "            caracteristicas.append(caract)\n",
    "    \n",
    "    BECADOS = HERRAMIENTA_ANALITICA(N, min_edad, max_edad, caracteristicas)\n",
    "    print(f'Lista de becados: {BECADOS}')\n",
    "    \n",
    "    graficas_becados(BECADOS)\n",
    "    return\n",
    "\n",
    "print(herramienta_propuesta_graficas())"
   ]
  },
  {
   "cell_type": "markdown",
   "metadata": {},
   "source": [
    "#### Configuración de propuestas"
   ]
  },
  {
   "cell_type": "code",
   "execution_count": 19,
   "metadata": {},
   "outputs": [
    {
     "name": "stdout",
     "output_type": "stream",
     "text": [
      "                       HERRAMIENTA INTERACTIVA PARA DISTRIBUCIÓN DE BECAS\n",
      "Ingrese el número de becas que desee asignar:100\n",
      "Ingrese el límite mínimo de edad. Este debe ser un número entero:20\n",
      "Ingrese el límite máximo de edad. Este debe ser un número entero:35\n",
      "\n",
      "A continuación deberá ingresar las características que desea incluir, las cuales pueden ser: genero, estrato y/o region. Estas deben estar escritas en minusculas y sin tildes. En caso de que no desee incluir más características, debera escribir NO.\n",
      "Ingrese la característica o \"NO\" si ya las ingresó previamente:genero\n",
      "Ingrese la característica o \"NO\" si ya las ingresó previamente:region\n",
      "Ingrese la característica o \"NO\" si ya las ingresó previamente:NO\n",
      "A continuación debera ingresar el porcentaje de becas que desea asignarle a cada grupo. \n",
      " \n",
      "ATENCIÓN: Debe tener en cuenta que el sistema lo deja ingresar todos los porcentajes para cada grupo, mientras estos sean números mayores o iguales a cero. \n",
      " \n",
      "Este despues ira asignado las becas en el orden en que ingresó los porcentajes, pero si encuentra un porcentaje equivalente a superar las becas disponibles, asignara a ese grupo las becas que falten por asignar (si hay personas en el grupo que reciban estas becas), o si el número de becas asignado es mayor que en número de cupos, se asignará el máximo de cupos. \n",
      " \n",
      "Por lo tanto, los grupos que se encuentren al final del ingreso de porcentajes, tienen mayor probabilidad de no asignarles becas. \n",
      "        \n",
      "Ingrese el porcentaje que desee asignarle al grupo ('Region_1', 'femenino'):8\n",
      "Ingrese el porcentaje que desee asignarle al grupo ('Region_1', 'masculino'):5\n",
      "Ingrese el porcentaje que desee asignarle al grupo ('Region_1', 'no binario'):3\n",
      "Ingrese el porcentaje que desee asignarle al grupo ('Region_1', 'otro'):4\n",
      "Ingrese el porcentaje que desee asignarle al grupo ('Region_2', 'femenino'):9\n",
      "Ingrese el porcentaje que desee asignarle al grupo ('Region_2', 'masculino'):5\n",
      "Ingrese el porcentaje que desee asignarle al grupo ('Region_2', 'no binario'):5\n",
      "Ingrese el porcentaje que desee asignarle al grupo ('Region_3', 'femenino'):9\n",
      "Ingrese el porcentaje que desee asignarle al grupo ('Region_3', 'masculino'):7\n",
      "Ingrese el porcentaje que desee asignarle al grupo ('Region_3', 'otro'):5\n",
      "Ingrese el porcentaje que desee asignarle al grupo ('Region_4', 'femenino'):7\n",
      "Ingrese el porcentaje que desee asignarle al grupo ('Region_4', 'masculino'):6\n",
      "Ingrese el porcentaje que desee asignarle al grupo ('Region_4', 'no binario'):7\n",
      "Ingrese el porcentaje que desee asignarle al grupo ('Region_5', 'femenino'):10\n",
      "Ingrese el porcentaje que desee asignarle al grupo ('Region_5', 'masculino'):7\n",
      "Ingrese el porcentaje que desee asignarle al grupo ('Region_5', 'no binario'):3\n",
      "\n",
      "Se asignaron 67 becas; sin embargo, como la suma de los porcentajes proporcionados no es equivalente a las 100.0 becas planteadas, el sistema asignó 33 becas más, para cumplir con las becas requeridas.\n",
      "La distribución de becas se muestra a continuación:\n",
      "\n",
      "Grupo ('Region_1', 'femenino') ----> No. Becas: 14\n",
      "207\n",
      "134\n",
      "74\n",
      "447\n",
      "147\n",
      "496\n",
      "24\n",
      "404\n",
      "348\n",
      "359\n",
      "282\n",
      "93\n",
      "445\n",
      "150\n",
      "----------------------------------------\n",
      "\n",
      "Grupo ('Region_1', 'masculino') ----> No. Becas: 11\n",
      "222\n",
      "33\n",
      "163\n",
      "311\n",
      "338\n",
      "358\n",
      "212\n",
      "421\n",
      "349\n",
      "480\n",
      "244\n",
      "----------------------------------------\n",
      "\n",
      "Grupo ('Region_1', 'no binario') ----> No. Becas: 3\n",
      "283\n",
      "46\n",
      "459\n",
      "----------------------------------------\n",
      "\n",
      "Grupo ('Region_1', 'otro') ----> No. Becas: 1\n",
      "373\n",
      "----------------------------------------\n",
      "\n",
      "Grupo ('Region_2', 'femenino') ----> No. Becas: 15\n",
      "363\n",
      "287\n",
      "250\n",
      "337\n",
      "386\n",
      "173\n",
      "234\n",
      "2\n",
      "165\n",
      "191\n",
      "278\n",
      "172\n",
      "360\n",
      "121\n",
      "406\n",
      "----------------------------------------\n",
      "\n",
      "Grupo ('Region_2', 'masculino') ----> No. Becas: 8\n",
      "471\n",
      "161\n",
      "240\n",
      "52\n",
      "176\n",
      "440\n",
      "106\n",
      "41\n",
      "----------------------------------------\n",
      "\n",
      "Grupo ('Region_2', 'no binario') ----> No. Becas: 3\n",
      "66\n",
      "313\n",
      "166\n",
      "----------------------------------------\n",
      "\n",
      "Grupo ('Region_3', 'femenino') ----> No. Becas: 6\n",
      "228\n",
      "153\n",
      "189\n",
      "261\n",
      "44\n",
      "306\n",
      "----------------------------------------\n",
      "\n",
      "Grupo ('Region_3', 'masculino') ----> No. Becas: 6\n",
      "39\n",
      "205\n",
      "410\n",
      "98\n",
      "126\n",
      "129\n",
      "----------------------------------------\n",
      "\n",
      "Grupo ('Region_3', 'otro') ----> No. Becas: 1\n",
      "4\n",
      "----------------------------------------\n",
      "\n",
      "Grupo ('Region_4', 'femenino') ----> No. Becas: 13\n",
      "308\n",
      "213\n",
      "466\n",
      "442\n",
      "82\n",
      "450\n",
      "470\n",
      "326\n",
      "318\n",
      "10\n",
      "340\n",
      "156\n",
      "229\n",
      "----------------------------------------\n",
      "\n",
      "Grupo ('Region_4', 'masculino') ----> No. Becas: 12\n",
      "341\n",
      "482\n",
      "475\n",
      "59\n",
      "446\n",
      "362\n",
      "42\n",
      "419\n",
      "474\n",
      "494\n",
      "23\n",
      "71\n",
      "----------------------------------------\n",
      "\n",
      "Grupo ('Region_4', 'no binario') ----> No. Becas: 2\n",
      "423\n",
      "77\n",
      "----------------------------------------\n",
      "\n",
      "Grupo ('Region_5', 'femenino') ----> No. Becas: 2\n",
      "478\n",
      "97\n",
      "----------------------------------------\n",
      "\n",
      "Grupo ('Region_5', 'masculino') ----> No. Becas: 2\n",
      "49\n",
      "301\n",
      "----------------------------------------\n",
      "\n",
      "Grupo ('Region_5', 'no binario') ----> No. Becas: 1\n",
      "375\n",
      "----------------------------------------\n",
      "\n",
      "Lista de becados: [207, 134, 74, 447, 147, 496, 24, 404, 348, 359, 282, 93, 445, 150, 222, 33, 163, 311, 338, 358, 212, 421, 349, 480, 244, 283, 46, 459, 373, 363, 287, 250, 337, 386, 173, 234, 2, 165, 191, 278, 172, 360, 121, 406, 471, 161, 240, 52, 176, 440, 106, 41, 66, 313, 166, 228, 153, 189, 261, 44, 306, 39, 205, 410, 98, 126, 129, 4, 308, 213, 466, 442, 82, 450, 470, 326, 318, 10, 340, 156, 229, 341, 482, 475, 59, 446, 362, 42, 419, 474, 494, 23, 71, 423, 77, 478, 97, 49, 301, 375]\n",
      "\n",
      "                       EDAD                \n"
     ]
    },
    {
     "data": {
      "image/png": "[encoded data removed]",
      "text/plain": [
       "<Figure size 360x417.6 with 1 Axes>"
      ]
     },
     "metadata": {
      "needs_background": "light"
     },
     "output_type": "display_data"
    },
    {
     "name": "stdout",
     "output_type": "stream",
     "text": [
      "\n",
      "                  ESCOLARIDAD            \n"
     ]
    },
    {
     "data": {
      "image/png": "[encoded data removed]",
      "text/plain": [
       "<Figure size 360x417.6 with 1 Axes>"
      ]
     },
     "metadata": {
      "needs_background": "light"
     },
     "output_type": "display_data"
    },
    {
     "name": "stdout",
     "output_type": "stream",
     "text": [
      "\n",
      "                   ESTRATO      \n"
     ]
    },
    {
     "data": {
      "image/png": "[encoded data removed]",
      "text/plain": [
       "<Figure size 360x417.6 with 1 Axes>"
      ]
     },
     "metadata": {
      "needs_background": "light"
     },
     "output_type": "display_data"
    },
    {
     "name": "stdout",
     "output_type": "stream",
     "text": [
      "\n",
      "                 GÉNERO\n"
     ]
    },
    {
     "data": {
      "image/png": "[encoded data removed]",
      "text/plain": [
       "<Figure size 360x417.6 with 1 Axes>"
      ]
     },
     "metadata": {},
     "output_type": "display_data"
    },
    {
     "name": "stdout",
     "output_type": "stream",
     "text": [
      "\n",
      "                  PROMEDIO\n"
     ]
    },
    {
     "data": {
      "image/png": "[encoded data removed]",
      "text/plain": [
       "<Figure size 360x417.6 with 1 Axes>"
      ]
     },
     "metadata": {
      "needs_background": "light"
     },
     "output_type": "display_data"
    },
    {
     "name": "stdout",
     "output_type": "stream",
     "text": [
      "\n",
      "               REGIÓN\n"
     ]
    },
    {
     "data": {
      "image/png": "[encoded data removed]",
      "text/plain": [
       "<Figure size 360x417.6 with 1 Axes>"
      ]
     },
     "metadata": {},
     "output_type": "display_data"
    },
    {
     "name": "stdout",
     "output_type": "stream",
     "text": [
      "None\n",
      "FALENCIA:\n",
      "- Se favoreció a la región 4, en comparación con la propuesta 2 del comité. Esto es una falencia al suponer que de la región 4, provienen personas que pudieron haber tenido mejores condiciones y oportunidades que de otras regiones como la region 5.\n",
      "\n",
      "- Al no incluir estrato, se favoreció levemente a personas en estratos entre 3 y 4.\n",
      "\n",
      "\n",
      "VIRTUDES:\n",
      "- Se favorecen a poblaciones con menores edades que las propuestas 1 y 2, con el propósito de brindarles oportunidades a los jovenes e impactar en otros aspectos sociales.\n",
      "\n",
      "- Se hace una discriminación positiva especialmente con el género, mejorando la población de generos diferentes a femenino y masculino, como lo es el no binario.\n",
      "\n",
      "- Se realiza una mayor asignación de becas a mujeres, por lo que representa una forma de abordar la desigualdad histórica y promover la equidad de género.\n",
      "\n",
      "- Esta propuesta favorece a las minorias. A diferencia de la propuesta 1 en la que al asignar los porcentajes proporcionalmente a la distribución de generos y regiones se mantiene la brecha de oportunidades, puesto que hay menos probabilidad de darle una beca a estas poblaciones minoritarias.\n",
      "\n",
      "\n"
     ]
    }
   ],
   "source": [
    "# Implementa tu respuesta en esta celda\n",
    "print(herramienta_propuesta_graficas())\n",
    "\n",
    "# Becas 100\n",
    "# Edad 20 - 35\n",
    "# Genero y región\n",
    "#[('Region_1', 'femenino'), ('Region_1', 'masculino'), ('Region_1', 'no binario'), ('Region_1', 'otro'), ('Region_2', 'femenino'), ('Region_2', 'masculino'), ('Region_2', 'no binario'), ('Region_3', 'femenino'), ('Region_3', 'masculino'), ('Region_3', 'otro'), ('Region_4', 'femenino'), ('Region_4', 'masculino'), ('Region_4', 'no binario'), ('Region_5', 'femenino'), ('Region_5', 'masculino'), ('Region_5', 'no binario')] 16)\n",
    "# [8,5,3,4,9,5,5,9,7,5,7,6,7,10,7,3]\n",
    "\"\"\"\n",
    "Se eligió esta propuesta debido a que la población de personas encuestadas se encuentran principalmente en el rango entre 20 y 35 años. Además, teniendo en cuenta el análisis de formulación del programa “Ser Pilo Paga”, la tasa de cobertura del nivel superior se encuentra en un 49% y muchas personas entre ese rango de edad, no se encuentran matriculados en pregado.\n",
    "\n",
    "En la propuesta no se eligió el parametro de estrato, ya que la mayoria de las personas encuestadas se encuentra en estratos bajos, por lo que se prefiere priorizar de acuerdo al género y región.\n",
    "\"\"\"\n",
    "print(\"\"\"FALENCIA:\n",
    "- Se favoreció a la región 4, en comparación con la propuesta 2 del comité. Esto es una falencia al suponer que de la región 4, provienen personas que pudieron haber tenido mejores condiciones y oportunidades que de otras regiones como la region 5.\\n\n",
    "- Al no incluir estrato, se favoreció levemente a personas en estratos entre 3 y 4.\\n\n",
    "\"\"\")\n",
    "print(\"\"\"VIRTUDES:\n",
    "- Se favorecen a poblaciones con menores edades que las propuestas 1 y 2, con el propósito de brindarles oportunidades a los jovenes e impactar en otros aspectos sociales.\\n\n",
    "- Se hace una discriminación positiva especialmente con el género, mejorando la población de generos diferentes a femenino y masculino, como lo es el no binario.\\n\n",
    "- Se realiza una mayor asignación de becas a mujeres, por lo que representa una forma de abordar la desigualdad histórica y promover la equidad de género.\\n\n",
    "- Esta propuesta favorece a las minorias. A diferencia de la propuesta 1 en la que al asignar los porcentajes proporcionalmente a la distribución de generos y regiones se mantiene la brecha de oportunidades, puesto que hay menos probabilidad de darle una beca a estas poblaciones minoritarias.\\n\n",
    "\"\"\")"
   ]
  },
  {
   "cell_type": "markdown",
   "metadata": {},
   "source": [
    "## Referencias"
   ]
  },
  {
   "cell_type": "markdown",
   "metadata": {},
   "source": [
    "* Discriminación Positiva<br>\n",
    "https://es.wikipedia.org/wiki/Discriminaci%C3%B3n_positiva\n",
    "* Análisis de formulación del programa “Ser Pilo Paga”<br>\n",
    "https://repository.urosario.edu.co/handle/10336/12526\n",
    "* La acción afirmativa en la Universidad de los Andes: El caso del programa \"Oportunidades para talentos nacionales\"<br> http://www.scielo.org.co/scielo.php?script=sci_arttext&pid=S0123-885X2004000300005\n",
    "* Acción afirmativa y equidad: un análisis desde la propuesta de Thomas Nagel<br>\n",
    "http://www.scielo.org.mx/scielo.php?script=sci_arttext&pid=S2007-24062016000200049"
   ]
  },
  {
   "cell_type": "markdown",
   "metadata": {},
   "source": []
  }
 ],
 "metadata": {
  "kernelspec": {
   "display_name": "ML_Py3_10_16",
   "language": "python",
   "name": "python3"
  },
  "language_info": {
   "codemirror_mode": {
    "name": "ipython",
    "version": 3
   },
   "file_extension": ".py",
   "mimetype": "text/x-python",
   "name": "python",
   "nbconvert_exporter": "python",
   "pygments_lexer": "ipython3",
   "version": "3.10.16"
  }
 },
 "nbformat": 4,
 "nbformat_minor": 1
}
